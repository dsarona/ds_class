{
 "cells": [
  {
   "cell_type": "markdown",
   "metadata": {},
   "source": [
    "# Data Import"
   ]
  },
  {
   "cell_type": "code",
   "execution_count": 150,
   "metadata": {
    "collapsed": false
   },
   "outputs": [
    {
     "data": {
      "text/html": [
       "<div>\n",
       "<table border=\"1\" class=\"dataframe\">\n",
       "  <thead>\n",
       "    <tr style=\"text-align: right;\">\n",
       "      <th></th>\n",
       "      <th>IP</th>\n",
       "      <th>Port</th>\n",
       "      <th>Banner</th>\n",
       "      <th>Timestamp</th>\n",
       "      <th>Hostnames</th>\n",
       "      <th>Country</th>\n",
       "      <th>City</th>\n",
       "      <th>Operating System</th>\n",
       "      <th>Organization</th>\n",
       "    </tr>\n",
       "  </thead>\n",
       "  <tbody>\n",
       "    <tr>\n",
       "      <th>0</th>\n",
       "      <td>192.150.16.10</td>\n",
       "      <td>4500</td>\n",
       "      <td>VPN (IKE NAT-T)\\n\\nInitiator SPI: e5f858a0876af576\\nResponder SPI: 977987b5d8e61320\\nNext Payload: Security Association (SA)\\nVersion: 1.0\\nExchange Type: Identity Protection\\nFlags:\\n    Encryption:     False\\n    Commit:         False\\n    Authentication: False\\nMessage ID: 00000000\\nLength: 80</td>\n",
       "      <td>2016-11-03T04:05:11.336316</td>\n",
       "      <td>NaN</td>\n",
       "      <td>United States</td>\n",
       "      <td>NaN</td>\n",
       "      <td>NaN</td>\n",
       "      <td>Level 3 Communications</td>\n",
       "    </tr>\n",
       "    <tr>\n",
       "      <th>1</th>\n",
       "      <td>192.150.16.163</td>\n",
       "      <td>443</td>\n",
       "      <td>HTTP/1.1 200 OK\\r\\nDate: Thu, 03 Nov 2016 03:55:51 GMT\\r\\nServer: Apache\\r\\nX-Adobe-Content: AEM,floodgate-pink\\r\\nX-Frame-Options: SAMEORIGIN\\r\\nVary: X-Adobe-SSL\\r\\nEdge-control: !no-store,max-age=15m\\r\\nAccept-Ranges: bytes\\r\\nCache-Control: max-age=900\\r\\nExpires: Thu, 03 Nov 2016 04:10:51 GMT\\r\\nX-dynaTrace: PT=13782565;PA=-1526674535;SP=prod;PS=170337423\\r\\nX-Adobe-Loc: da1\\r\\nTransfer-Encoding: chunked\\r\\nContent-Type: text/html; charset=UTF-8\\r\\n\\r\\n</td>\n",
       "      <td>2016-11-03T03:55:58.497287</td>\n",
       "      <td>192.150.16.163</td>\n",
       "      <td>United States</td>\n",
       "      <td>NaN</td>\n",
       "      <td>NaN</td>\n",
       "      <td>Level 3 Communications</td>\n",
       "    </tr>\n",
       "  </tbody>\n",
       "</table>\n",
       "</div>"
      ],
      "text/plain": [
       "               IP  Port  \\\n",
       "0  192.150.16.10   4500   \n",
       "1  192.150.16.163  443    \n",
       "\n",
       "                                                                                                                                                                                                                                                                                                                                                                                                                                                                           Banner  \\\n",
       "0  VPN (IKE NAT-T)\\n\\nInitiator SPI: e5f858a0876af576\\nResponder SPI: 977987b5d8e61320\\nNext Payload: Security Association (SA)\\nVersion: 1.0\\nExchange Type: Identity Protection\\nFlags:\\n    Encryption:     False\\n    Commit:         False\\n    Authentication: False\\nMessage ID: 00000000\\nLength: 80                                                                                                                                                                        \n",
       "1  HTTP/1.1 200 OK\\r\\nDate: Thu, 03 Nov 2016 03:55:51 GMT\\r\\nServer: Apache\\r\\nX-Adobe-Content: AEM,floodgate-pink\\r\\nX-Frame-Options: SAMEORIGIN\\r\\nVary: X-Adobe-SSL\\r\\nEdge-control: !no-store,max-age=15m\\r\\nAccept-Ranges: bytes\\r\\nCache-Control: max-age=900\\r\\nExpires: Thu, 03 Nov 2016 04:10:51 GMT\\r\\nX-dynaTrace: PT=13782565;PA=-1526674535;SP=prod;PS=170337423\\r\\nX-Adobe-Loc: da1\\r\\nTransfer-Encoding: chunked\\r\\nContent-Type: text/html; charset=UTF-8\\r\\n\\r\\n   \n",
       "\n",
       "                    Timestamp       Hostnames        Country City  \\\n",
       "0  2016-11-03T04:05:11.336316  NaN             United States  NaN   \n",
       "1  2016-11-03T03:55:58.497287  192.150.16.163  United States  NaN   \n",
       "\n",
       "  Operating System            Organization  \n",
       "0  NaN              Level 3 Communications  \n",
       "1  NaN              Level 3 Communications  "
      ]
     },
     "execution_count": 150,
     "metadata": {},
     "output_type": "execute_result"
    }
   ],
   "source": [
    "# access data using a relative path, Shodan only data currently\n",
    "import pandas as pd\n",
    "import re as r\n",
    "import numpy as np\n",
    "import matplotlib.pyplot as plt\n",
    "shodan1 = pd.read_csv('./data/shodan_data_1313.csv', parse_dates=True)\n",
    "shodan1.head(2)"
   ]
  },
  {
   "cell_type": "code",
   "execution_count": 151,
   "metadata": {
    "collapsed": false
   },
   "outputs": [
    {
     "data": {
      "text/plain": [
       "(102, 9)"
      ]
     },
     "execution_count": 151,
     "metadata": {},
     "output_type": "execute_result"
    }
   ],
   "source": [
    "shodan1.shape"
   ]
  },
  {
   "cell_type": "code",
   "execution_count": 152,
   "metadata": {
    "collapsed": false
   },
   "outputs": [
    {
     "data": {
      "text/html": [
       "<div>\n",
       "<table border=\"1\" class=\"dataframe\">\n",
       "  <thead>\n",
       "    <tr style=\"text-align: right;\">\n",
       "      <th></th>\n",
       "      <th>IP</th>\n",
       "      <th>Port</th>\n",
       "      <th>Banner</th>\n",
       "      <th>Timestamp</th>\n",
       "      <th>Hostnames</th>\n",
       "      <th>Country</th>\n",
       "      <th>City</th>\n",
       "      <th>Operating System</th>\n",
       "      <th>Organization</th>\n",
       "    </tr>\n",
       "  </thead>\n",
       "  <tbody>\n",
       "    <tr>\n",
       "      <th>0</th>\n",
       "      <td>192.150.14.86</td>\n",
       "      <td>443</td>\n",
       "      <td>HTTP/1.0 302 Found\\r\\nLocation: http://unavailable.adobe.com/\\r\\nConnection: close\\r\\n\\r\\n</td>\n",
       "      <td>2016-10-17T22:27:28.902181</td>\n",
       "      <td>licensing-sjc0.stage.adobe.com</td>\n",
       "      <td>United States</td>\n",
       "      <td>NaN</td>\n",
       "      <td>NaN</td>\n",
       "      <td>Adobe Systems</td>\n",
       "    </tr>\n",
       "    <tr>\n",
       "      <th>1</th>\n",
       "      <td>192.150.14.86</td>\n",
       "      <td>80</td>\n",
       "      <td>HTTP/1.0 302 Found\\r\\nLocation: https://192.150.14.86/\\r\\nServer: BigIP\\r\\nConnection: Keep-Alive\\r\\nContent-Length: 0\\r\\n\\r\\n</td>\n",
       "      <td>2016-10-17T22:27:23.663893</td>\n",
       "      <td>licensing-sjc0.stage.adobe.com</td>\n",
       "      <td>United States</td>\n",
       "      <td>NaN</td>\n",
       "      <td>NaN</td>\n",
       "      <td>Adobe Systems</td>\n",
       "    </tr>\n",
       "    <tr>\n",
       "      <th>2</th>\n",
       "      <td>192.150.13.92</td>\n",
       "      <td>4500</td>\n",
       "      <td>VPN (IKE NAT-T)\\n\\nInitiator SPI: e5f858a0876af576\\nResponder SPI: 76bb51435332d360\\nNext Payload: Security Association (SA)\\nVersion: 1.0\\nExchange Type: Identity Protection\\nFlags:\\n    Encryption:     False\\n    Commit:         False\\n    Authentication: False\\nMessage ID: 00000000\\nLength: 108</td>\n",
       "      <td>2016-10-17T20:17:07.514426</td>\n",
       "      <td>asa-sanjose-ext.adobe.com</td>\n",
       "      <td>United States</td>\n",
       "      <td>NaN</td>\n",
       "      <td>NaN</td>\n",
       "      <td>Adobe Systems</td>\n",
       "    </tr>\n",
       "    <tr>\n",
       "      <th>3</th>\n",
       "      <td>216.104.208.40</td>\n",
       "      <td>80</td>\n",
       "      <td>HTTP/1.1 403 Forbidden\\r\\nDate: Mon, 17 Oct 2016 16:57:03 GMT\\r\\nServer: Apache/2.2.15 (CentOS)\\r\\nAccept-Ranges: bytes\\r\\nContent-Length: 4958\\r\\nConnection: close\\r\\nContent-Type: text/html; charset=UTF-8\\r\\n\\r\\n</td>\n",
       "      <td>2016-10-17T16:57:07.243190</td>\n",
       "      <td>sj1216104208040.adobeitc.com</td>\n",
       "      <td>United States</td>\n",
       "      <td>San Jose</td>\n",
       "      <td>NaN</td>\n",
       "      <td>Adobe Systems</td>\n",
       "    </tr>\n",
       "    <tr>\n",
       "      <th>4</th>\n",
       "      <td>216.104.208.166</td>\n",
       "      <td>443</td>\n",
       "      <td>HTTP/1.1 200 OK\\r\\nDate: Mon, 17 Oct 2016 12:23:19 GMT\\r\\nServer: Apache-Coyote/1.1\\r\\nAccept-Ranges: bytes\\r\\nETag: W/\"1551-1459363502000\"\\r\\nLast-Modified: Wed, 30 Mar 2016 18:45:02 GMT\\r\\nContent-Type: text/html\\r\\nContent-Length: 1551\\r\\n\\r\\n</td>\n",
       "      <td>2016-10-17T12:23:30.122351</td>\n",
       "      <td>sj1216104208166.adobeitc.com</td>\n",
       "      <td>United States</td>\n",
       "      <td>San Jose</td>\n",
       "      <td>NaN</td>\n",
       "      <td>Adobe Systems</td>\n",
       "    </tr>\n",
       "  </tbody>\n",
       "</table>\n",
       "</div>"
      ],
      "text/plain": [
       "                IP  Port  \\\n",
       "0  192.150.14.86    443    \n",
       "1  192.150.14.86    80     \n",
       "2  192.150.13.92    4500   \n",
       "3  216.104.208.40   80     \n",
       "4  216.104.208.166  443    \n",
       "\n",
       "                                                                                                                                                                                                                                                                                                       Banner  \\\n",
       "0  HTTP/1.0 302 Found\\r\\nLocation: http://unavailable.adobe.com/\\r\\nConnection: close\\r\\n\\r\\n                                                                                                                                                                                                                   \n",
       "1  HTTP/1.0 302 Found\\r\\nLocation: https://192.150.14.86/\\r\\nServer: BigIP\\r\\nConnection: Keep-Alive\\r\\nContent-Length: 0\\r\\n\\r\\n                                                                                                                                                                               \n",
       "2  VPN (IKE NAT-T)\\n\\nInitiator SPI: e5f858a0876af576\\nResponder SPI: 76bb51435332d360\\nNext Payload: Security Association (SA)\\nVersion: 1.0\\nExchange Type: Identity Protection\\nFlags:\\n    Encryption:     False\\n    Commit:         False\\n    Authentication: False\\nMessage ID: 00000000\\nLength: 108   \n",
       "3  HTTP/1.1 403 Forbidden\\r\\nDate: Mon, 17 Oct 2016 16:57:03 GMT\\r\\nServer: Apache/2.2.15 (CentOS)\\r\\nAccept-Ranges: bytes\\r\\nContent-Length: 4958\\r\\nConnection: close\\r\\nContent-Type: text/html; charset=UTF-8\\r\\n\\r\\n                                                                                       \n",
       "4  HTTP/1.1 200 OK\\r\\nDate: Mon, 17 Oct 2016 12:23:19 GMT\\r\\nServer: Apache-Coyote/1.1\\r\\nAccept-Ranges: bytes\\r\\nETag: W/\"1551-1459363502000\"\\r\\nLast-Modified: Wed, 30 Mar 2016 18:45:02 GMT\\r\\nContent-Type: text/html\\r\\nContent-Length: 1551\\r\\n\\r\\n                                                       \n",
       "\n",
       "                    Timestamp                       Hostnames        Country  \\\n",
       "0  2016-10-17T22:27:28.902181  licensing-sjc0.stage.adobe.com  United States   \n",
       "1  2016-10-17T22:27:23.663893  licensing-sjc0.stage.adobe.com  United States   \n",
       "2  2016-10-17T20:17:07.514426  asa-sanjose-ext.adobe.com       United States   \n",
       "3  2016-10-17T16:57:07.243190  sj1216104208040.adobeitc.com    United States   \n",
       "4  2016-10-17T12:23:30.122351  sj1216104208166.adobeitc.com    United States   \n",
       "\n",
       "       City Operating System   Organization  \n",
       "0  NaN       NaN              Adobe Systems  \n",
       "1  NaN       NaN              Adobe Systems  \n",
       "2  NaN       NaN              Adobe Systems  \n",
       "3  San Jose  NaN              Adobe Systems  \n",
       "4  San Jose  NaN              Adobe Systems  "
      ]
     },
     "execution_count": 152,
     "metadata": {},
     "output_type": "execute_result"
    }
   ],
   "source": [
    "# access data using a relative path, Shodan only data currently\n",
    "shodan2 = pd.read_csv('./data/shodan_data_14365.csv', parse_dates=True)\n",
    "shodan2.head(5)"
   ]
  },
  {
   "cell_type": "code",
   "execution_count": 153,
   "metadata": {
    "collapsed": false
   },
   "outputs": [
    {
     "data": {
      "text/plain": [
       "(152, 9)"
      ]
     },
     "execution_count": 153,
     "metadata": {},
     "output_type": "execute_result"
    }
   ],
   "source": [
    "shodan2.shape"
   ]
  },
  {
   "cell_type": "code",
   "execution_count": 154,
   "metadata": {
    "collapsed": false
   },
   "outputs": [
    {
     "data": {
      "text/html": [
       "<div>\n",
       "<table border=\"1\" class=\"dataframe\">\n",
       "  <thead>\n",
       "    <tr style=\"text-align: right;\">\n",
       "      <th></th>\n",
       "      <th>IP</th>\n",
       "      <th>Port</th>\n",
       "      <th>Banner</th>\n",
       "      <th>Timestamp</th>\n",
       "      <th>Hostnames</th>\n",
       "      <th>Country</th>\n",
       "      <th>City</th>\n",
       "      <th>Operating System</th>\n",
       "      <th>Organization</th>\n",
       "    </tr>\n",
       "  </thead>\n",
       "  <tbody>\n",
       "    <tr>\n",
       "      <th>0</th>\n",
       "      <td>193.105.140.4</td>\n",
       "      <td>500</td>\n",
       "      <td>VPN (IKE)\\n\\nInitiator SPI: e5f858a0876af576\\nResponder SPI: 8f7c9a0d7f869a63\\nNext Payload: Security Association (SA)\\nVersion: 1.0\\nExchange Type: Identity Protection\\nFlags:\\n    Encryption:     False\\n    Commit:         False\\n    Authentication: False\\nMessage ID: 00000000\\nLength: 108</td>\n",
       "      <td>2016-11-03T02:11:09.586278</td>\n",
       "      <td>NaN</td>\n",
       "      <td>Romania</td>\n",
       "      <td>NaN</td>\n",
       "      <td>PIX OS 7.0.x</td>\n",
       "      <td>Adobe Systems Software Ireland Limited</td>\n",
       "    </tr>\n",
       "    <tr>\n",
       "      <th>1</th>\n",
       "      <td>193.104.215.87</td>\n",
       "      <td>443</td>\n",
       "      <td>HTTP/1.1 200 OK\\r\\nServer: Apache-Coyote/1.1\\r\\nAccept-Ranges: bytes\\r\\nETag: W/\"164-1358371085000\"\\r\\nLast-Modified: Wed, 16 Jan 2013 21:18:05 GMT\\r\\nContent-Type: text/html\\r\\nContent-Length: 164\\r\\nDate: Thu, 03 Nov 2016 01:13:09 GMT\\r\\n\\r\\n</td>\n",
       "      <td>2016-11-03T01:13:20.039282</td>\n",
       "      <td>adeactivate-du1.adobe.com</td>\n",
       "      <td>Europe</td>\n",
       "      <td>NaN</td>\n",
       "      <td>NaN</td>\n",
       "      <td>Level 3 Communications</td>\n",
       "    </tr>\n",
       "    <tr>\n",
       "      <th>2</th>\n",
       "      <td>193.104.215.105</td>\n",
       "      <td>80</td>\n",
       "      <td>HTTP/1.1 403 Forbidden\\r\\nDate: Thu, 03 Nov 2016 00:37:26 GMT\\r\\nServer: Apache/2.2.15 (Red Hat)\\r\\nX-Reason: Authentication Failed\\r\\nX-Powered-By: Jetty(9.2.9.v20150224)\\r\\np3p: CP=\"IDC DSP COR ADM DEVi TAIi PSA PSD IVAi IVDi CONi HIS OUR IND CNT\"\\r\\nContent-Length: 22\\r\\nConnection: close\\r\\nContent-Type: text/plain; charset=UTF-8\\r\\n\\r\\n</td>\n",
       "      <td>2016-11-03T00:37:29.744838</td>\n",
       "      <td>NaN</td>\n",
       "      <td>Europe</td>\n",
       "      <td>NaN</td>\n",
       "      <td>NaN</td>\n",
       "      <td>Level 3 Communications</td>\n",
       "    </tr>\n",
       "    <tr>\n",
       "      <th>3</th>\n",
       "      <td>193.104.215.58</td>\n",
       "      <td>80</td>\n",
       "      <td>HTTP/1.1 301 Moved Permanently\\r\\nDate: Wed, 02 Nov 2016 21:45:44 GMT\\r\\nServer: Apache\\r\\nLocation: http://fkad.na6.acrobat.com/\\r\\nContent-Length: 236\\r\\nContent-Type: text/html; charset=iso-8859-1\\r\\n\\r\\n</td>\n",
       "      <td>2016-11-02T21:45:58.030365</td>\n",
       "      <td>redirect-du1.adobe.com</td>\n",
       "      <td>Europe</td>\n",
       "      <td>NaN</td>\n",
       "      <td>NaN</td>\n",
       "      <td>Level 3 Communications</td>\n",
       "    </tr>\n",
       "    <tr>\n",
       "      <th>4</th>\n",
       "      <td>193.104.215.45</td>\n",
       "      <td>53</td>\n",
       "      <td>\\xa3{\\x84\\x00\\x00\\x01\\x00\\x00\\x00\\x01\\x00\\x01\\x0cadobe-dns-03\\x05adobe\\x03com\\x00\\x00\\x1c\\x00\\x01\\xc0\\x19\\x00\\x06\\x00\\x01\\x00\\x00\\x01,\\x000\\x0cadobe-dns-01\\xc0\\x19\\nhostmaster\\xc0\\x19\\x00\\x00\\x0c\\xe5\\x00\\x00*0\\x00\\x00\\x03\\x84\\x00$\\xea\\x00\\x00\\x00\\x01,\\x00\\x00)\\x10\\x00\\x00\\x00\\x00\\x00\\x00\\x00</td>\n",
       "      <td>2016-11-02T21:37:30.279645</td>\n",
       "      <td>adobe-dns-03.adobe.com</td>\n",
       "      <td>Europe</td>\n",
       "      <td>NaN</td>\n",
       "      <td>NaN</td>\n",
       "      <td>Level 3 Communications</td>\n",
       "    </tr>\n",
       "  </tbody>\n",
       "</table>\n",
       "</div>"
      ],
      "text/plain": [
       "                IP  Port  \\\n",
       "0  193.105.140.4    500    \n",
       "1  193.104.215.87   443    \n",
       "2  193.104.215.105  80     \n",
       "3  193.104.215.58   80     \n",
       "4  193.104.215.45   53     \n",
       "\n",
       "                                                                                                                                                                                                                                                                                                                                                    Banner  \\\n",
       "0  VPN (IKE)\\n\\nInitiator SPI: e5f858a0876af576\\nResponder SPI: 8f7c9a0d7f869a63\\nNext Payload: Security Association (SA)\\nVersion: 1.0\\nExchange Type: Identity Protection\\nFlags:\\n    Encryption:     False\\n    Commit:         False\\n    Authentication: False\\nMessage ID: 00000000\\nLength: 108                                                      \n",
       "1  HTTP/1.1 200 OK\\r\\nServer: Apache-Coyote/1.1\\r\\nAccept-Ranges: bytes\\r\\nETag: W/\"164-1358371085000\"\\r\\nLast-Modified: Wed, 16 Jan 2013 21:18:05 GMT\\r\\nContent-Type: text/html\\r\\nContent-Length: 164\\r\\nDate: Thu, 03 Nov 2016 01:13:09 GMT\\r\\n\\r\\n                                                                                                      \n",
       "2  HTTP/1.1 403 Forbidden\\r\\nDate: Thu, 03 Nov 2016 00:37:26 GMT\\r\\nServer: Apache/2.2.15 (Red Hat)\\r\\nX-Reason: Authentication Failed\\r\\nX-Powered-By: Jetty(9.2.9.v20150224)\\r\\np3p: CP=\"IDC DSP COR ADM DEVi TAIi PSA PSD IVAi IVDi CONi HIS OUR IND CNT\"\\r\\nContent-Length: 22\\r\\nConnection: close\\r\\nContent-Type: text/plain; charset=UTF-8\\r\\n\\r\\n   \n",
       "3  HTTP/1.1 301 Moved Permanently\\r\\nDate: Wed, 02 Nov 2016 21:45:44 GMT\\r\\nServer: Apache\\r\\nLocation: http://fkad.na6.acrobat.com/\\r\\nContent-Length: 236\\r\\nContent-Type: text/html; charset=iso-8859-1\\r\\n\\r\\n                                                                                                                                           \n",
       "4  \\xa3{\\x84\\x00\\x00\\x01\\x00\\x00\\x00\\x01\\x00\\x01\\x0cadobe-dns-03\\x05adobe\\x03com\\x00\\x00\\x1c\\x00\\x01\\xc0\\x19\\x00\\x06\\x00\\x01\\x00\\x00\\x01,\\x000\\x0cadobe-dns-01\\xc0\\x19\\nhostmaster\\xc0\\x19\\x00\\x00\\x0c\\xe5\\x00\\x00*0\\x00\\x00\\x03\\x84\\x00$\\xea\\x00\\x00\\x00\\x01,\\x00\\x00)\\x10\\x00\\x00\\x00\\x00\\x00\\x00\\x00                                                      \n",
       "\n",
       "                    Timestamp                  Hostnames  Country City  \\\n",
       "0  2016-11-03T02:11:09.586278  NaN                        Romania  NaN   \n",
       "1  2016-11-03T01:13:20.039282  adeactivate-du1.adobe.com  Europe   NaN   \n",
       "2  2016-11-03T00:37:29.744838  NaN                        Europe   NaN   \n",
       "3  2016-11-02T21:45:58.030365  redirect-du1.adobe.com     Europe   NaN   \n",
       "4  2016-11-02T21:37:30.279645  adobe-dns-03.adobe.com     Europe   NaN   \n",
       "\n",
       "  Operating System                            Organization  \n",
       "0  PIX OS 7.0.x     Adobe Systems Software Ireland Limited  \n",
       "1  NaN              Level 3 Communications                  \n",
       "2  NaN              Level 3 Communications                  \n",
       "3  NaN              Level 3 Communications                  \n",
       "4  NaN              Level 3 Communications                  "
      ]
     },
     "execution_count": 154,
     "metadata": {},
     "output_type": "execute_result"
    }
   ],
   "source": [
    "shodan3 = pd.read_csv('./data/shodan_data_44786.csv', parse_dates=True)\n",
    "shodan3.head(5)"
   ]
  },
  {
   "cell_type": "code",
   "execution_count": 155,
   "metadata": {
    "collapsed": false
   },
   "outputs": [
    {
     "data": {
      "text/plain": [
       "(94, 9)"
      ]
     },
     "execution_count": 155,
     "metadata": {},
     "output_type": "execute_result"
    }
   ],
   "source": [
    "shodan3.shape"
   ]
  },
  {
   "cell_type": "code",
   "execution_count": 156,
   "metadata": {
    "collapsed": true
   },
   "outputs": [],
   "source": [
    "frames = [shodan1, shodan2, shodan3]\n",
    "shodan = pd.concat(frames)"
   ]
  },
  {
   "cell_type": "code",
   "execution_count": 157,
   "metadata": {
    "collapsed": false
   },
   "outputs": [
    {
     "data": {
      "text/html": [
       "<div>\n",
       "<table border=\"1\" class=\"dataframe\">\n",
       "  <thead>\n",
       "    <tr style=\"text-align: right;\">\n",
       "      <th></th>\n",
       "      <th>IP</th>\n",
       "      <th>Port</th>\n",
       "      <th>Banner</th>\n",
       "      <th>Timestamp</th>\n",
       "      <th>Hostnames</th>\n",
       "      <th>Country</th>\n",
       "      <th>City</th>\n",
       "      <th>Operating System</th>\n",
       "      <th>Organization</th>\n",
       "    </tr>\n",
       "  </thead>\n",
       "  <tbody>\n",
       "    <tr>\n",
       "      <th>89</th>\n",
       "      <td>193.105.139.4</td>\n",
       "      <td>4500</td>\n",
       "      <td>VPN (IKE NAT-T)\\n\\nInitiator SPI: e5f858a0876af576\\nResponder SPI: 7755cb98916c5d31\\nNext Payload: Security Association (SA)\\nVersion: 1.0\\nExchange Type: Identity Protection\\nFlags:\\n    Encryption:     False\\n    Commit:         False\\n    Authentication: False\\nMessage ID: 00000000\\nLength: 108</td>\n",
       "      <td>2016-10-12T16:25:04.363631</td>\n",
       "      <td>NaN</td>\n",
       "      <td>Germany</td>\n",
       "      <td>NaN</td>\n",
       "      <td>NaN</td>\n",
       "      <td>Adobe Systems Software Ireland Limited</td>\n",
       "    </tr>\n",
       "    <tr>\n",
       "      <th>90</th>\n",
       "      <td>193.105.139.5</td>\n",
       "      <td>500</td>\n",
       "      <td>VPN (IKE)\\n\\nInitiator SPI: e5f858a0876af576\\nResponder SPI: b4d8e8dda06fbdc3\\nNext Payload: Security Association (SA)\\nVersion: 1.0\\nExchange Type: Identity Protection\\nFlags:\\n    Encryption:     False\\n    Commit:         False\\n    Authentication: False\\nMessage ID: 00000000\\nLength: 80</td>\n",
       "      <td>2016-10-12T16:05:07.771886</td>\n",
       "      <td>NaN</td>\n",
       "      <td>Germany</td>\n",
       "      <td>NaN</td>\n",
       "      <td>NaN</td>\n",
       "      <td>Adobe Systems Software Ireland Limited</td>\n",
       "    </tr>\n",
       "    <tr>\n",
       "      <th>91</th>\n",
       "      <td>193.104.215.68</td>\n",
       "      <td>443</td>\n",
       "      <td>HTTP/1.1 403 Forbidden\\r\\nDate: Tue, 11 Oct 2016 20:11:55 GMT\\r\\nServer: Apache\\r\\nContent-Length: 202\\r\\nContent-Type: text/html; charset=iso-8859-1\\r\\n\\r\\n</td>\n",
       "      <td>2016-10-11T20:12:09.131189</td>\n",
       "      <td>NaN</td>\n",
       "      <td>Europe</td>\n",
       "      <td>NaN</td>\n",
       "      <td>NaN</td>\n",
       "      <td>Level 3 Communications</td>\n",
       "    </tr>\n",
       "    <tr>\n",
       "      <th>92</th>\n",
       "      <td>193.104.215.111</td>\n",
       "      <td>443</td>\n",
       "      <td>HTTP/1.1 200 OK\\r\\nX-Powered-By: Express\\r\\nAccept-Ranges: bytes\\r\\nCache-Control: public, max-age=0\\r\\nLast-Modified: Tue, 14 Jun 2016 04:41:23 GMT\\r\\nETag: W/\"599-1554d36c538\"\\r\\nContent-Type: text/html; charset=UTF-8\\r\\nContent-Length: 1433\\r\\nDate: Fri, 07 Oct 2016 11:27:12 GMT\\r\\nConnection: keep-alive\\r\\n\\r\\n</td>\n",
       "      <td>2016-10-07T11:27:19.522143</td>\n",
       "      <td>fileshare-prod-du1-ext-vip.adobe.com</td>\n",
       "      <td>Europe</td>\n",
       "      <td>NaN</td>\n",
       "      <td>NaN</td>\n",
       "      <td>Level 3 Communications</td>\n",
       "    </tr>\n",
       "    <tr>\n",
       "      <th>93</th>\n",
       "      <td>193.104.215.41</td>\n",
       "      <td>443</td>\n",
       "      <td>HTTP/1.1 200 OK\\r\\nDate: Tue, 04 Oct 2016 07:57:34 GMT\\r\\nServer: Bomgar\\r\\nExpires: Thu, 19 Nov 1981 08:52:00 GMT\\r\\nPragma: no-cache\\r\\nCache-Control: no-cache\\r\\nSet-Cookie: ns_s=d340de6c97bcd101d50ce16b58e4a642fc792886; path=/; secure; HttpOnly\\r\\nStrict-Transport-Security: max-age=31536000\\r\\nX-UA-Compatible: IE=edge\\r\\nTransfer-Encoding: chunked\\r\\nContent-Type: text/html; charset=utf-8\\r\\n\\r\\n</td>\n",
       "      <td>2016-10-04T07:57:45.558855</td>\n",
       "      <td>NaN</td>\n",
       "      <td>Europe</td>\n",
       "      <td>NaN</td>\n",
       "      <td>NaN</td>\n",
       "      <td>Level 3 Communications</td>\n",
       "    </tr>\n",
       "  </tbody>\n",
       "</table>\n",
       "</div>"
      ],
      "text/plain": [
       "                 IP  Port  \\\n",
       "89  193.105.139.4    4500   \n",
       "90  193.105.139.5    500    \n",
       "91  193.104.215.68   443    \n",
       "92  193.104.215.111  443    \n",
       "93  193.104.215.41   443    \n",
       "\n",
       "                                                                                                                                                                                                                                                                                                                                                                                                                 Banner  \\\n",
       "89  VPN (IKE NAT-T)\\n\\nInitiator SPI: e5f858a0876af576\\nResponder SPI: 7755cb98916c5d31\\nNext Payload: Security Association (SA)\\nVersion: 1.0\\nExchange Type: Identity Protection\\nFlags:\\n    Encryption:     False\\n    Commit:         False\\n    Authentication: False\\nMessage ID: 00000000\\nLength: 108                                                                                                            \n",
       "90  VPN (IKE)\\n\\nInitiator SPI: e5f858a0876af576\\nResponder SPI: b4d8e8dda06fbdc3\\nNext Payload: Security Association (SA)\\nVersion: 1.0\\nExchange Type: Identity Protection\\nFlags:\\n    Encryption:     False\\n    Commit:         False\\n    Authentication: False\\nMessage ID: 00000000\\nLength: 80                                                                                                                   \n",
       "91  HTTP/1.1 403 Forbidden\\r\\nDate: Tue, 11 Oct 2016 20:11:55 GMT\\r\\nServer: Apache\\r\\nContent-Length: 202\\r\\nContent-Type: text/html; charset=iso-8859-1\\r\\n\\r\\n                                                                                                                                                                                                                                                         \n",
       "92  HTTP/1.1 200 OK\\r\\nX-Powered-By: Express\\r\\nAccept-Ranges: bytes\\r\\nCache-Control: public, max-age=0\\r\\nLast-Modified: Tue, 14 Jun 2016 04:41:23 GMT\\r\\nETag: W/\"599-1554d36c538\"\\r\\nContent-Type: text/html; charset=UTF-8\\r\\nContent-Length: 1433\\r\\nDate: Fri, 07 Oct 2016 11:27:12 GMT\\r\\nConnection: keep-alive\\r\\n\\r\\n                                                                                          \n",
       "93  HTTP/1.1 200 OK\\r\\nDate: Tue, 04 Oct 2016 07:57:34 GMT\\r\\nServer: Bomgar\\r\\nExpires: Thu, 19 Nov 1981 08:52:00 GMT\\r\\nPragma: no-cache\\r\\nCache-Control: no-cache\\r\\nSet-Cookie: ns_s=d340de6c97bcd101d50ce16b58e4a642fc792886; path=/; secure; HttpOnly\\r\\nStrict-Transport-Security: max-age=31536000\\r\\nX-UA-Compatible: IE=edge\\r\\nTransfer-Encoding: chunked\\r\\nContent-Type: text/html; charset=utf-8\\r\\n\\r\\n   \n",
       "\n",
       "                     Timestamp                             Hostnames  Country  \\\n",
       "89  2016-10-12T16:25:04.363631  NaN                                   Germany   \n",
       "90  2016-10-12T16:05:07.771886  NaN                                   Germany   \n",
       "91  2016-10-11T20:12:09.131189  NaN                                   Europe    \n",
       "92  2016-10-07T11:27:19.522143  fileshare-prod-du1-ext-vip.adobe.com  Europe    \n",
       "93  2016-10-04T07:57:45.558855  NaN                                   Europe    \n",
       "\n",
       "   City Operating System                            Organization  \n",
       "89  NaN  NaN              Adobe Systems Software Ireland Limited  \n",
       "90  NaN  NaN              Adobe Systems Software Ireland Limited  \n",
       "91  NaN  NaN              Level 3 Communications                  \n",
       "92  NaN  NaN              Level 3 Communications                  \n",
       "93  NaN  NaN              Level 3 Communications                  "
      ]
     },
     "execution_count": 157,
     "metadata": {},
     "output_type": "execute_result"
    }
   ],
   "source": [
    "shodan.tail()"
   ]
  },
  {
   "cell_type": "code",
   "execution_count": 158,
   "metadata": {
    "collapsed": false
   },
   "outputs": [
    {
     "data": {
      "text/plain": [
       "IP                  object\n",
       "Port                int64 \n",
       "Banner              object\n",
       "Timestamp           object\n",
       "Hostnames           object\n",
       "Country             object\n",
       "City                object\n",
       "Operating System    object\n",
       "Organization        object\n",
       "dtype: object"
      ]
     },
     "execution_count": 158,
     "metadata": {},
     "output_type": "execute_result"
    }
   ],
   "source": [
    "shodan.dtypes"
   ]
  },
  {
   "cell_type": "code",
   "execution_count": 159,
   "metadata": {
    "collapsed": false
   },
   "outputs": [
    {
     "data": {
      "text/plain": [
       "(348, 9)"
      ]
     },
     "execution_count": 159,
     "metadata": {},
     "output_type": "execute_result"
    }
   ],
   "source": [
    "shodan.shape"
   ]
  },
  {
   "cell_type": "code",
   "execution_count": 160,
   "metadata": {
    "collapsed": false,
    "scrolled": true
   },
   "outputs": [
    {
     "data": {
      "text/html": [
       "<div>\n",
       "<table border=\"1\" class=\"dataframe\">\n",
       "  <thead>\n",
       "    <tr style=\"text-align: right;\">\n",
       "      <th></th>\n",
       "      <th>Destination IP</th>\n",
       "      <th>Targetted</th>\n",
       "    </tr>\n",
       "  </thead>\n",
       "  <tbody>\n",
       "    <tr>\n",
       "      <th>0</th>\n",
       "      <td>216.104.209.254</td>\n",
       "      <td>Yes</td>\n",
       "    </tr>\n",
       "    <tr>\n",
       "      <th>1</th>\n",
       "      <td>216.104.209.253</td>\n",
       "      <td>Yes</td>\n",
       "    </tr>\n",
       "  </tbody>\n",
       "</table>\n",
       "</div>"
      ],
      "text/plain": [
       "    Destination IP Targetted\n",
       "0  216.104.209.254  Yes     \n",
       "1  216.104.209.253  Yes     "
      ]
     },
     "execution_count": 160,
     "metadata": {},
     "output_type": "execute_result"
    }
   ],
   "source": [
    "fwdata = pd.read_excel(open('./data/GEO2_1.xls','rb'), sheetname='report')\n",
    "fwdata.head(2)"
   ]
  },
  {
   "cell_type": "code",
   "execution_count": 161,
   "metadata": {
    "collapsed": false
   },
   "outputs": [
    {
     "data": {
      "text/html": [
       "<div>\n",
       "<table border=\"1\" class=\"dataframe\">\n",
       "  <thead>\n",
       "    <tr style=\"text-align: right;\">\n",
       "      <th></th>\n",
       "      <th>IP</th>\n",
       "      <th>Targetted</th>\n",
       "    </tr>\n",
       "  </thead>\n",
       "  <tbody>\n",
       "    <tr>\n",
       "      <th>0</th>\n",
       "      <td>216.104.209.254</td>\n",
       "      <td>Yes</td>\n",
       "    </tr>\n",
       "    <tr>\n",
       "      <th>1</th>\n",
       "      <td>216.104.209.253</td>\n",
       "      <td>Yes</td>\n",
       "    </tr>\n",
       "  </tbody>\n",
       "</table>\n",
       "</div>"
      ],
      "text/plain": [
       "                IP Targetted\n",
       "0  216.104.209.254  Yes     \n",
       "1  216.104.209.253  Yes     "
      ]
     },
     "execution_count": 161,
     "metadata": {},
     "output_type": "execute_result"
    }
   ],
   "source": [
    "fwdata.rename(columns={'Destination IP':'IP'}, inplace=True)\n",
    "fwdata.head(2)"
   ]
  },
  {
   "cell_type": "code",
   "execution_count": 162,
   "metadata": {
    "collapsed": false
   },
   "outputs": [
    {
     "data": {
      "text/plain": [
       "(813, 2)"
      ]
     },
     "execution_count": 162,
     "metadata": {},
     "output_type": "execute_result"
    }
   ],
   "source": [
    "fwdata.dtypes\n",
    "fwdata.shape"
   ]
  },
  {
   "cell_type": "code",
   "execution_count": 163,
   "metadata": {
    "collapsed": false
   },
   "outputs": [],
   "source": [
    "#frames2 = [shodan, fwdata]\n",
    "shodan_complete = pd.merge(shodan, fwdata, how='outer')"
   ]
  },
  {
   "cell_type": "code",
   "execution_count": 164,
   "metadata": {
    "collapsed": false
   },
   "outputs": [
    {
     "data": {
      "text/plain": [
       "(1066, 10)"
      ]
     },
     "execution_count": 164,
     "metadata": {},
     "output_type": "execute_result"
    }
   ],
   "source": [
    "shodan_complete.shape"
   ]
  },
  {
   "cell_type": "code",
   "execution_count": 165,
   "metadata": {
    "collapsed": false
   },
   "outputs": [
    {
     "data": {
      "text/html": [
       "<div>\n",
       "<table border=\"1\" class=\"dataframe\">\n",
       "  <thead>\n",
       "    <tr style=\"text-align: right;\">\n",
       "      <th></th>\n",
       "      <th>IP</th>\n",
       "      <th>Port</th>\n",
       "      <th>Banner</th>\n",
       "      <th>Timestamp</th>\n",
       "      <th>Hostnames</th>\n",
       "      <th>Country</th>\n",
       "      <th>City</th>\n",
       "      <th>Operating System</th>\n",
       "      <th>Organization</th>\n",
       "      <th>Targetted</th>\n",
       "    </tr>\n",
       "  </thead>\n",
       "  <tbody>\n",
       "    <tr>\n",
       "      <th>0</th>\n",
       "      <td>192.150.16.10</td>\n",
       "      <td>4500.0</td>\n",
       "      <td>VPN (IKE NAT-T)\\n\\nInitiator SPI: e5f858a0876af576\\nResponder SPI: 977987b5d8e61320\\nNext Payload: Security Association (SA)\\nVersion: 1.0\\nExchange Type: Identity Protection\\nFlags:\\n    Encryption:     False\\n    Commit:         False\\n    Authentication: False\\nMessage ID: 00000000\\nLength: 80</td>\n",
       "      <td>2016-11-03T04:05:11.336316</td>\n",
       "      <td>NaN</td>\n",
       "      <td>United States</td>\n",
       "      <td>NaN</td>\n",
       "      <td>NaN</td>\n",
       "      <td>Level 3 Communications</td>\n",
       "      <td>NaN</td>\n",
       "    </tr>\n",
       "    <tr>\n",
       "      <th>1</th>\n",
       "      <td>192.150.16.163</td>\n",
       "      <td>443.0</td>\n",
       "      <td>HTTP/1.1 200 OK\\r\\nDate: Thu, 03 Nov 2016 03:55:51 GMT\\r\\nServer: Apache\\r\\nX-Adobe-Content: AEM,floodgate-pink\\r\\nX-Frame-Options: SAMEORIGIN\\r\\nVary: X-Adobe-SSL\\r\\nEdge-control: !no-store,max-age=15m\\r\\nAccept-Ranges: bytes\\r\\nCache-Control: max-age=900\\r\\nExpires: Thu, 03 Nov 2016 04:10:51 GMT\\r\\nX-dynaTrace: PT=13782565;PA=-1526674535;SP=prod;PS=170337423\\r\\nX-Adobe-Loc: da1\\r\\nTransfer-Encoding: chunked\\r\\nContent-Type: text/html; charset=UTF-8\\r\\n\\r\\n</td>\n",
       "      <td>2016-11-03T03:55:58.497287</td>\n",
       "      <td>192.150.16.163</td>\n",
       "      <td>United States</td>\n",
       "      <td>NaN</td>\n",
       "      <td>NaN</td>\n",
       "      <td>Level 3 Communications</td>\n",
       "      <td>NaN</td>\n",
       "    </tr>\n",
       "  </tbody>\n",
       "</table>\n",
       "</div>"
      ],
      "text/plain": [
       "               IP    Port  \\\n",
       "0  192.150.16.10   4500.0   \n",
       "1  192.150.16.163  443.0    \n",
       "\n",
       "                                                                                                                                                                                                                                                                                                                                                                                                                                                                           Banner  \\\n",
       "0  VPN (IKE NAT-T)\\n\\nInitiator SPI: e5f858a0876af576\\nResponder SPI: 977987b5d8e61320\\nNext Payload: Security Association (SA)\\nVersion: 1.0\\nExchange Type: Identity Protection\\nFlags:\\n    Encryption:     False\\n    Commit:         False\\n    Authentication: False\\nMessage ID: 00000000\\nLength: 80                                                                                                                                                                        \n",
       "1  HTTP/1.1 200 OK\\r\\nDate: Thu, 03 Nov 2016 03:55:51 GMT\\r\\nServer: Apache\\r\\nX-Adobe-Content: AEM,floodgate-pink\\r\\nX-Frame-Options: SAMEORIGIN\\r\\nVary: X-Adobe-SSL\\r\\nEdge-control: !no-store,max-age=15m\\r\\nAccept-Ranges: bytes\\r\\nCache-Control: max-age=900\\r\\nExpires: Thu, 03 Nov 2016 04:10:51 GMT\\r\\nX-dynaTrace: PT=13782565;PA=-1526674535;SP=prod;PS=170337423\\r\\nX-Adobe-Loc: da1\\r\\nTransfer-Encoding: chunked\\r\\nContent-Type: text/html; charset=UTF-8\\r\\n\\r\\n   \n",
       "\n",
       "                    Timestamp       Hostnames        Country City  \\\n",
       "0  2016-11-03T04:05:11.336316  NaN             United States  NaN   \n",
       "1  2016-11-03T03:55:58.497287  192.150.16.163  United States  NaN   \n",
       "\n",
       "  Operating System            Organization Targetted  \n",
       "0  NaN              Level 3 Communications  NaN       \n",
       "1  NaN              Level 3 Communications  NaN       "
      ]
     },
     "execution_count": 165,
     "metadata": {},
     "output_type": "execute_result"
    }
   ],
   "source": [
    "pd.set_option('display.max_colwidth', -1)\n",
    "shodan_complete.head(2)"
   ]
  },
  {
   "cell_type": "code",
   "execution_count": 166,
   "metadata": {
    "collapsed": false
   },
   "outputs": [
    {
     "data": {
      "text/html": [
       "<div>\n",
       "<table border=\"1\" class=\"dataframe\">\n",
       "  <thead>\n",
       "    <tr style=\"text-align: right;\">\n",
       "      <th></th>\n",
       "      <th></th>\n",
       "      <th>Banner</th>\n",
       "      <th>Timestamp</th>\n",
       "      <th>Hostnames</th>\n",
       "      <th>Country</th>\n",
       "      <th>City</th>\n",
       "      <th>Operating System</th>\n",
       "      <th>Organization</th>\n",
       "      <th>Targetted</th>\n",
       "    </tr>\n",
       "    <tr>\n",
       "      <th>IP</th>\n",
       "      <th>Port</th>\n",
       "      <th></th>\n",
       "      <th></th>\n",
       "      <th></th>\n",
       "      <th></th>\n",
       "      <th></th>\n",
       "      <th></th>\n",
       "      <th></th>\n",
       "      <th></th>\n",
       "    </tr>\n",
       "  </thead>\n",
       "  <tbody>\n",
       "    <tr>\n",
       "      <th>192.150.16.10</th>\n",
       "      <th>4500.0</th>\n",
       "      <td>VPN (IKE NAT-T)\\n\\nInitiator SPI: e5f858a0876af576\\nResponder SPI: 977987b5d8e61320\\nNext Payload: Security Association (SA)\\nVersion: 1.0\\nExchange Type: Identity Protection\\nFlags:\\n    Encryption:     False\\n    Commit:         False\\n    Authentication: False\\nMessage ID: 00000000\\nLength: 80</td>\n",
       "      <td>2016-11-03T04:05:11.336316</td>\n",
       "      <td>NaN</td>\n",
       "      <td>United States</td>\n",
       "      <td>NaN</td>\n",
       "      <td>NaN</td>\n",
       "      <td>Level 3 Communications</td>\n",
       "      <td>NaN</td>\n",
       "    </tr>\n",
       "    <tr>\n",
       "      <th>192.150.16.163</th>\n",
       "      <th>443.0</th>\n",
       "      <td>HTTP/1.1 200 OK\\r\\nDate: Thu, 03 Nov 2016 03:55:51 GMT\\r\\nServer: Apache\\r\\nX-Adobe-Content: AEM,floodgate-pink\\r\\nX-Frame-Options: SAMEORIGIN\\r\\nVary: X-Adobe-SSL\\r\\nEdge-control: !no-store,max-age=15m\\r\\nAccept-Ranges: bytes\\r\\nCache-Control: max-age=900\\r\\nExpires: Thu, 03 Nov 2016 04:10:51 GMT\\r\\nX-dynaTrace: PT=13782565;PA=-1526674535;SP=prod;PS=170337423\\r\\nX-Adobe-Loc: da1\\r\\nTransfer-Encoding: chunked\\r\\nContent-Type: text/html; charset=UTF-8\\r\\n\\r\\n</td>\n",
       "      <td>2016-11-03T03:55:58.497287</td>\n",
       "      <td>192.150.16.163</td>\n",
       "      <td>United States</td>\n",
       "      <td>NaN</td>\n",
       "      <td>NaN</td>\n",
       "      <td>Level 3 Communications</td>\n",
       "      <td>NaN</td>\n",
       "    </tr>\n",
       "    <tr>\n",
       "      <th>192.150.16.202</th>\n",
       "      <th>443.0</th>\n",
       "      <td>HTTP/1.1 200 OK\\r\\nDate: Wed, 02 Nov 2016 21:59:54 GMT\\r\\nServer: Apache\\r\\nX-Adobe-Content: AEM,floodgate-pink\\r\\nX-Frame-Options: SAMEORIGIN\\r\\nVary: X-Adobe-SSL, Accept-Encoding\\r\\nEdge-control: !no-store,max-age=15m\\r\\nAccept-Ranges: bytes\\r\\nCache-Control: max-age=900\\r\\nExpires: Wed, 02 Nov 2016 22:14:54 GMT\\r\\nX-dynaTrace: PT=9270953;PA=-1959215021;SP=prod;PS=170337423\\r\\nX-Adobe-Loc: da1\\r\\nTransfer-Encoding: chunked\\r\\nContent-Type: text/html; charset=UTF-8\\r\\n\\r\\n</td>\n",
       "      <td>2016-11-02T22:00:04.618515</td>\n",
       "      <td>NaN</td>\n",
       "      <td>United States</td>\n",
       "      <td>NaN</td>\n",
       "      <td>NaN</td>\n",
       "      <td>Level 3 Communications</td>\n",
       "      <td>NaN</td>\n",
       "    </tr>\n",
       "  </tbody>\n",
       "</table>\n",
       "</div>"
      ],
      "text/plain": [
       "                                                                                                                                                                                                                                                                                                                                                                                                                                                                                                               Banner  \\\n",
       "IP             Port                                                                                                                                                                                                                                                                                                                                                                                                                                                                                                     \n",
       "192.150.16.10  4500.0  VPN (IKE NAT-T)\\n\\nInitiator SPI: e5f858a0876af576\\nResponder SPI: 977987b5d8e61320\\nNext Payload: Security Association (SA)\\nVersion: 1.0\\nExchange Type: Identity Protection\\nFlags:\\n    Encryption:     False\\n    Commit:         False\\n    Authentication: False\\nMessage ID: 00000000\\nLength: 80                                                                                                                                                                                        \n",
       "192.150.16.163 443.0   HTTP/1.1 200 OK\\r\\nDate: Thu, 03 Nov 2016 03:55:51 GMT\\r\\nServer: Apache\\r\\nX-Adobe-Content: AEM,floodgate-pink\\r\\nX-Frame-Options: SAMEORIGIN\\r\\nVary: X-Adobe-SSL\\r\\nEdge-control: !no-store,max-age=15m\\r\\nAccept-Ranges: bytes\\r\\nCache-Control: max-age=900\\r\\nExpires: Thu, 03 Nov 2016 04:10:51 GMT\\r\\nX-dynaTrace: PT=13782565;PA=-1526674535;SP=prod;PS=170337423\\r\\nX-Adobe-Loc: da1\\r\\nTransfer-Encoding: chunked\\r\\nContent-Type: text/html; charset=UTF-8\\r\\n\\r\\n                   \n",
       "192.150.16.202 443.0   HTTP/1.1 200 OK\\r\\nDate: Wed, 02 Nov 2016 21:59:54 GMT\\r\\nServer: Apache\\r\\nX-Adobe-Content: AEM,floodgate-pink\\r\\nX-Frame-Options: SAMEORIGIN\\r\\nVary: X-Adobe-SSL, Accept-Encoding\\r\\nEdge-control: !no-store,max-age=15m\\r\\nAccept-Ranges: bytes\\r\\nCache-Control: max-age=900\\r\\nExpires: Wed, 02 Nov 2016 22:14:54 GMT\\r\\nX-dynaTrace: PT=9270953;PA=-1959215021;SP=prod;PS=170337423\\r\\nX-Adobe-Loc: da1\\r\\nTransfer-Encoding: chunked\\r\\nContent-Type: text/html; charset=UTF-8\\r\\n\\r\\n   \n",
       "\n",
       "                                        Timestamp       Hostnames  \\\n",
       "IP             Port                                                 \n",
       "192.150.16.10  4500.0  2016-11-03T04:05:11.336316  NaN              \n",
       "192.150.16.163 443.0   2016-11-03T03:55:58.497287  192.150.16.163   \n",
       "192.150.16.202 443.0   2016-11-02T22:00:04.618515  NaN              \n",
       "\n",
       "                             Country City Operating System  \\\n",
       "IP             Port                                          \n",
       "192.150.16.10  4500.0  United States  NaN  NaN               \n",
       "192.150.16.163 443.0   United States  NaN  NaN               \n",
       "192.150.16.202 443.0   United States  NaN  NaN               \n",
       "\n",
       "                                 Organization Targetted  \n",
       "IP             Port                                      \n",
       "192.150.16.10  4500.0  Level 3 Communications  NaN       \n",
       "192.150.16.163 443.0   Level 3 Communications  NaN       \n",
       "192.150.16.202 443.0   Level 3 Communications  NaN       "
      ]
     },
     "execution_count": 166,
     "metadata": {},
     "output_type": "execute_result"
    }
   ],
   "source": [
    "shodan_complete=shodan_complete.set_index(['IP', 'Port'])\n",
    "shodan_complete.head(3)"
   ]
  },
  {
   "cell_type": "markdown",
   "metadata": {},
   "source": [
    "# Data Review and Manipulation"
   ]
  },
  {
   "cell_type": "code",
   "execution_count": 167,
   "metadata": {
    "collapsed": false
   },
   "outputs": [
    {
     "data": {
      "text/plain": [
       "233"
      ]
     },
     "execution_count": 167,
     "metadata": {},
     "output_type": "execute_result"
    }
   ],
   "source": [
    "import numpy as np\n",
    "shodan_complete['Response']=shodan_complete['Banner'].str.extract(r'(HTTP.\\d.\\d.\\d\\d\\d)', expand=True)\n",
    "shodan_complete.Targetted.isnull().sum()"
   ]
  },
  {
   "cell_type": "code",
   "execution_count": 168,
   "metadata": {
    "collapsed": false
   },
   "outputs": [
    {
     "data": {
      "text/plain": [
       "338"
      ]
     },
     "execution_count": 168,
     "metadata": {},
     "output_type": "execute_result"
    }
   ],
   "source": [
    "shodan_complete['Response']=shodan_complete['Banner'].str.extract(r'(HTTP.\\d.\\d.\\d\\d\\d)', expand=True)\n",
    "shodan_complete.Banner.notnull().sum()"
   ]
  },
  {
   "cell_type": "code",
   "execution_count": 169,
   "metadata": {
    "collapsed": false
   },
   "outputs": [
    {
     "data": {
      "text/html": [
       "<div>\n",
       "<table border=\"1\" class=\"dataframe\">\n",
       "  <thead>\n",
       "    <tr style=\"text-align: right;\">\n",
       "      <th></th>\n",
       "      <th></th>\n",
       "      <th>Banner</th>\n",
       "      <th>Timestamp</th>\n",
       "      <th>Hostnames</th>\n",
       "      <th>Country</th>\n",
       "      <th>City</th>\n",
       "      <th>Operating System</th>\n",
       "      <th>Organization</th>\n",
       "      <th>Targetted</th>\n",
       "      <th>Response</th>\n",
       "      <th>Webcode</th>\n",
       "    </tr>\n",
       "    <tr>\n",
       "      <th>IP</th>\n",
       "      <th>Port</th>\n",
       "      <th></th>\n",
       "      <th></th>\n",
       "      <th></th>\n",
       "      <th></th>\n",
       "      <th></th>\n",
       "      <th></th>\n",
       "      <th></th>\n",
       "      <th></th>\n",
       "      <th></th>\n",
       "      <th></th>\n",
       "    </tr>\n",
       "  </thead>\n",
       "  <tbody>\n",
       "    <tr>\n",
       "      <th>192.150.16.10</th>\n",
       "      <th>4500.0</th>\n",
       "      <td>VPN (IKE NAT-T)\\n\\nInitiator SPI: e5f858a0876af576\\nResponder SPI: 977987b5d8e61320\\nNext Payload: Security Association (SA)\\nVersion: 1.0\\nExchange Type: Identity Protection\\nFlags:\\n    Encryption:     False\\n    Commit:         False\\n    Authentication: False\\nMessage ID: 00000000\\nLength: 80</td>\n",
       "      <td>2016-11-03T04:05:11.336316</td>\n",
       "      <td>NaN</td>\n",
       "      <td>United States</td>\n",
       "      <td>NaN</td>\n",
       "      <td>NaN</td>\n",
       "      <td>Level 3 Communications</td>\n",
       "      <td>NaN</td>\n",
       "      <td>NaN</td>\n",
       "      <td>NaN</td>\n",
       "    </tr>\n",
       "    <tr>\n",
       "      <th>192.150.16.163</th>\n",
       "      <th>443.0</th>\n",
       "      <td>HTTP/1.1 200 OK\\r\\nDate: Thu, 03 Nov 2016 03:55:51 GMT\\r\\nServer: Apache\\r\\nX-Adobe-Content: AEM,floodgate-pink\\r\\nX-Frame-Options: SAMEORIGIN\\r\\nVary: X-Adobe-SSL\\r\\nEdge-control: !no-store,max-age=15m\\r\\nAccept-Ranges: bytes\\r\\nCache-Control: max-age=900\\r\\nExpires: Thu, 03 Nov 2016 04:10:51 GMT\\r\\nX-dynaTrace: PT=13782565;PA=-1526674535;SP=prod;PS=170337423\\r\\nX-Adobe-Loc: da1\\r\\nTransfer-Encoding: chunked\\r\\nContent-Type: text/html; charset=UTF-8\\r\\n\\r\\n</td>\n",
       "      <td>2016-11-03T03:55:58.497287</td>\n",
       "      <td>192.150.16.163</td>\n",
       "      <td>United States</td>\n",
       "      <td>NaN</td>\n",
       "      <td>NaN</td>\n",
       "      <td>Level 3 Communications</td>\n",
       "      <td>NaN</td>\n",
       "      <td>HTTP/1.1 200</td>\n",
       "      <td>200</td>\n",
       "    </tr>\n",
       "  </tbody>\n",
       "</table>\n",
       "</div>"
      ],
      "text/plain": [
       "                                                                                                                                                                                                                                                                                                                                                                                                                                                                                               Banner  \\\n",
       "IP             Port                                                                                                                                                                                                                                                                                                                                                                                                                                                                                     \n",
       "192.150.16.10  4500.0  VPN (IKE NAT-T)\\n\\nInitiator SPI: e5f858a0876af576\\nResponder SPI: 977987b5d8e61320\\nNext Payload: Security Association (SA)\\nVersion: 1.0\\nExchange Type: Identity Protection\\nFlags:\\n    Encryption:     False\\n    Commit:         False\\n    Authentication: False\\nMessage ID: 00000000\\nLength: 80                                                                                                                                                                        \n",
       "192.150.16.163 443.0   HTTP/1.1 200 OK\\r\\nDate: Thu, 03 Nov 2016 03:55:51 GMT\\r\\nServer: Apache\\r\\nX-Adobe-Content: AEM,floodgate-pink\\r\\nX-Frame-Options: SAMEORIGIN\\r\\nVary: X-Adobe-SSL\\r\\nEdge-control: !no-store,max-age=15m\\r\\nAccept-Ranges: bytes\\r\\nCache-Control: max-age=900\\r\\nExpires: Thu, 03 Nov 2016 04:10:51 GMT\\r\\nX-dynaTrace: PT=13782565;PA=-1526674535;SP=prod;PS=170337423\\r\\nX-Adobe-Loc: da1\\r\\nTransfer-Encoding: chunked\\r\\nContent-Type: text/html; charset=UTF-8\\r\\n\\r\\n   \n",
       "\n",
       "                                        Timestamp       Hostnames  \\\n",
       "IP             Port                                                 \n",
       "192.150.16.10  4500.0  2016-11-03T04:05:11.336316  NaN              \n",
       "192.150.16.163 443.0   2016-11-03T03:55:58.497287  192.150.16.163   \n",
       "\n",
       "                             Country City Operating System  \\\n",
       "IP             Port                                          \n",
       "192.150.16.10  4500.0  United States  NaN  NaN               \n",
       "192.150.16.163 443.0   United States  NaN  NaN               \n",
       "\n",
       "                                 Organization Targetted      Response Webcode  \n",
       "IP             Port                                                            \n",
       "192.150.16.10  4500.0  Level 3 Communications  NaN       NaN           NaN     \n",
       "192.150.16.163 443.0   Level 3 Communications  NaN       HTTP/1.1 200  200     "
      ]
     },
     "execution_count": 169,
     "metadata": {},
     "output_type": "execute_result"
    }
   ],
   "source": [
    "shodan_complete['Webcode']=shodan_complete['Response'].str.extract(r'\\s(\\d\\d\\d)', expand=True)\n",
    "shodan_complete.head(2)"
   ]
  },
  {
   "cell_type": "code",
   "execution_count": 170,
   "metadata": {
    "collapsed": false
   },
   "outputs": [
    {
     "data": {
      "text/html": [
       "<div>\n",
       "<table border=\"1\" class=\"dataframe\">\n",
       "  <thead>\n",
       "    <tr style=\"text-align: right;\">\n",
       "      <th></th>\n",
       "      <th></th>\n",
       "      <th>Banner</th>\n",
       "      <th>Timestamp</th>\n",
       "      <th>Hostnames</th>\n",
       "      <th>Country</th>\n",
       "      <th>City</th>\n",
       "      <th>Operating System</th>\n",
       "      <th>Organization</th>\n",
       "      <th>Targetted</th>\n",
       "      <th>Response</th>\n",
       "      <th>Webcode</th>\n",
       "      <th>Domain</th>\n",
       "    </tr>\n",
       "    <tr>\n",
       "      <th>IP</th>\n",
       "      <th>Port</th>\n",
       "      <th></th>\n",
       "      <th></th>\n",
       "      <th></th>\n",
       "      <th></th>\n",
       "      <th></th>\n",
       "      <th></th>\n",
       "      <th></th>\n",
       "      <th></th>\n",
       "      <th></th>\n",
       "      <th></th>\n",
       "      <th></th>\n",
       "    </tr>\n",
       "  </thead>\n",
       "  <tbody>\n",
       "    <tr>\n",
       "      <th>153.32.227.124</th>\n",
       "      <th>NaN</th>\n",
       "      <td>NaN</td>\n",
       "      <td>NaN</td>\n",
       "      <td>NaN</td>\n",
       "      <td>NaN</td>\n",
       "      <td>NaN</td>\n",
       "      <td>NaN</td>\n",
       "      <td>NaN</td>\n",
       "      <td>Yes</td>\n",
       "      <td>NaN</td>\n",
       "      <td>NaN</td>\n",
       "      <td>NaN</td>\n",
       "    </tr>\n",
       "    <tr>\n",
       "      <th>153.32.223.141</th>\n",
       "      <th>NaN</th>\n",
       "      <td>NaN</td>\n",
       "      <td>NaN</td>\n",
       "      <td>NaN</td>\n",
       "      <td>NaN</td>\n",
       "      <td>NaN</td>\n",
       "      <td>NaN</td>\n",
       "      <td>NaN</td>\n",
       "      <td>Yes</td>\n",
       "      <td>NaN</td>\n",
       "      <td>NaN</td>\n",
       "      <td>NaN</td>\n",
       "    </tr>\n",
       "    <tr>\n",
       "      <th>153.32.221.153</th>\n",
       "      <th>NaN</th>\n",
       "      <td>NaN</td>\n",
       "      <td>NaN</td>\n",
       "      <td>NaN</td>\n",
       "      <td>NaN</td>\n",
       "      <td>NaN</td>\n",
       "      <td>NaN</td>\n",
       "      <td>NaN</td>\n",
       "      <td>Yes</td>\n",
       "      <td>NaN</td>\n",
       "      <td>NaN</td>\n",
       "      <td>NaN</td>\n",
       "    </tr>\n",
       "    <tr>\n",
       "      <th>153.32.221.147</th>\n",
       "      <th>NaN</th>\n",
       "      <td>NaN</td>\n",
       "      <td>NaN</td>\n",
       "      <td>NaN</td>\n",
       "      <td>NaN</td>\n",
       "      <td>NaN</td>\n",
       "      <td>NaN</td>\n",
       "      <td>NaN</td>\n",
       "      <td>Yes</td>\n",
       "      <td>NaN</td>\n",
       "      <td>NaN</td>\n",
       "      <td>NaN</td>\n",
       "    </tr>\n",
       "  </tbody>\n",
       "</table>\n",
       "</div>"
      ],
      "text/plain": [
       "                    Banner Timestamp Hostnames Country City Operating System  \\\n",
       "IP             Port                                                            \n",
       "153.32.227.124 NaN   NaN    NaN       NaN       NaN     NaN  NaN               \n",
       "153.32.223.141 NaN   NaN    NaN       NaN       NaN     NaN  NaN               \n",
       "153.32.221.153 NaN   NaN    NaN       NaN       NaN     NaN  NaN               \n",
       "153.32.221.147 NaN   NaN    NaN       NaN       NaN     NaN  NaN               \n",
       "\n",
       "                    Organization Targetted Response Webcode Domain  \n",
       "IP             Port                                                 \n",
       "153.32.227.124 NaN   NaN          Yes       NaN      NaN     NaN    \n",
       "153.32.223.141 NaN   NaN          Yes       NaN      NaN     NaN    \n",
       "153.32.221.153 NaN   NaN          Yes       NaN      NaN     NaN    \n",
       "153.32.221.147 NaN   NaN          Yes       NaN      NaN     NaN    "
      ]
     },
     "execution_count": 170,
     "metadata": {},
     "output_type": "execute_result"
    }
   ],
   "source": [
    "shodan_complete['Domain']=shodan_complete['Hostnames'].str.extract(r'\\.(.*?)\\.com', expand=True)\n",
    "shodan_complete.tail(4)"
   ]
  },
  {
   "cell_type": "code",
   "execution_count": 171,
   "metadata": {
    "collapsed": false
   },
   "outputs": [
    {
     "data": {
      "text/plain": [
       "adobe                     118\n",
       "adobeitc                  49 \n",
       "stage.adobe               16 \n",
       "macromedia                3  \n",
       "wip.adobe                 2  \n",
       "adobedemo                 2  \n",
       "rs.adobe                  2  \n",
       "adobeprerelease           2  \n",
       "day                       2  \n",
       "licenses.adobe            2  \n",
       "share.adobe               2  \n",
       "dtm.adobeitc              1  \n",
       "adobe-references          1  \n",
       "cgi.adobe                 1  \n",
       "digitalexperiencescore    1  \n",
       "Name: Domain, dtype: int64"
      ]
     },
     "execution_count": 171,
     "metadata": {},
     "output_type": "execute_result"
    }
   ],
   "source": [
    "shodan_complete.Domain.value_counts()"
   ]
  },
  {
   "cell_type": "code",
   "execution_count": 172,
   "metadata": {
    "collapsed": false
   },
   "outputs": [],
   "source": [
    "# Create a new column called shodan_complete.prod where the value is yes\n",
    "# if shodan_complete.Domain is response 'adobe' and no if not\n",
    "shodan_complete['prod'] = np.where(shodan_complete['Domain']=='adobe', '1', '0')"
   ]
  },
  {
   "cell_type": "code",
   "execution_count": null,
   "metadata": {
    "collapsed": true
   },
   "outputs": [],
   "source": []
  },
  {
   "cell_type": "code",
   "execution_count": 173,
   "metadata": {
    "collapsed": false
   },
   "outputs": [
    {
     "data": {
      "text/plain": [
       "200    126\n",
       "302    82 \n",
       "404    32 \n",
       "403    30 \n",
       "301    12 \n",
       "307    3  \n",
       "503    3  \n",
       "400    2  \n",
       "401    2  \n",
       "204    1  \n",
       "500    1  \n",
       "Name: Webcode, dtype: int64"
      ]
     },
     "execution_count": 173,
     "metadata": {},
     "output_type": "execute_result"
    }
   ],
   "source": [
    "shodan_complete.Webcode.value_counts()"
   ]
  },
  {
   "cell_type": "code",
   "execution_count": 174,
   "metadata": {
    "collapsed": false
   },
   "outputs": [],
   "source": [
    "# Create a new column called shodan_complete.live where the value is yes\n",
    "# if shodan_complete.Response is response 200 and no if not\n",
    "shodan_complete['live'] = np.where(shodan_complete['Webcode']=='200', '1', '0')"
   ]
  },
  {
   "cell_type": "code",
   "execution_count": 175,
   "metadata": {
    "collapsed": false
   },
   "outputs": [
    {
     "data": {
      "text/html": [
       "<div>\n",
       "<table border=\"1\" class=\"dataframe\">\n",
       "  <thead>\n",
       "    <tr style=\"text-align: right;\">\n",
       "      <th></th>\n",
       "      <th></th>\n",
       "      <th>Banner</th>\n",
       "      <th>Timestamp</th>\n",
       "      <th>Hostnames</th>\n",
       "      <th>Country</th>\n",
       "      <th>City</th>\n",
       "      <th>Operating System</th>\n",
       "      <th>Organization</th>\n",
       "      <th>Targetted</th>\n",
       "      <th>Response</th>\n",
       "      <th>Webcode</th>\n",
       "      <th>Domain</th>\n",
       "      <th>prod</th>\n",
       "      <th>live</th>\n",
       "    </tr>\n",
       "    <tr>\n",
       "      <th>IP</th>\n",
       "      <th>Port</th>\n",
       "      <th></th>\n",
       "      <th></th>\n",
       "      <th></th>\n",
       "      <th></th>\n",
       "      <th></th>\n",
       "      <th></th>\n",
       "      <th></th>\n",
       "      <th></th>\n",
       "      <th></th>\n",
       "      <th></th>\n",
       "      <th></th>\n",
       "      <th></th>\n",
       "      <th></th>\n",
       "    </tr>\n",
       "  </thead>\n",
       "  <tbody>\n",
       "    <tr>\n",
       "      <th>192.150.16.10</th>\n",
       "      <th>4500.0</th>\n",
       "      <td>VPN (IKE NAT-T)\\n\\nInitiator SPI: e5f858a0876af576\\nResponder SPI: 977987b5d8e61320\\nNext Payload: Security Association (SA)\\nVersion: 1.0\\nExchange Type: Identity Protection\\nFlags:\\n    Encryption:     False\\n    Commit:         False\\n    Authentication: False\\nMessage ID: 00000000\\nLength: 80</td>\n",
       "      <td>2016-11-03T04:05:11.336316</td>\n",
       "      <td>NaN</td>\n",
       "      <td>United States</td>\n",
       "      <td>NaN</td>\n",
       "      <td>NaN</td>\n",
       "      <td>Level 3 Communications</td>\n",
       "      <td>NaN</td>\n",
       "      <td>NaN</td>\n",
       "      <td>NaN</td>\n",
       "      <td>NaN</td>\n",
       "      <td>0</td>\n",
       "      <td>0</td>\n",
       "    </tr>\n",
       "    <tr>\n",
       "      <th>192.150.16.163</th>\n",
       "      <th>443.0</th>\n",
       "      <td>HTTP/1.1 200 OK\\r\\nDate: Thu, 03 Nov 2016 03:55:51 GMT\\r\\nServer: Apache\\r\\nX-Adobe-Content: AEM,floodgate-pink\\r\\nX-Frame-Options: SAMEORIGIN\\r\\nVary: X-Adobe-SSL\\r\\nEdge-control: !no-store,max-age=15m\\r\\nAccept-Ranges: bytes\\r\\nCache-Control: max-age=900\\r\\nExpires: Thu, 03 Nov 2016 04:10:51 GMT\\r\\nX-dynaTrace: PT=13782565;PA=-1526674535;SP=prod;PS=170337423\\r\\nX-Adobe-Loc: da1\\r\\nTransfer-Encoding: chunked\\r\\nContent-Type: text/html; charset=UTF-8\\r\\n\\r\\n</td>\n",
       "      <td>2016-11-03T03:55:58.497287</td>\n",
       "      <td>192.150.16.163</td>\n",
       "      <td>United States</td>\n",
       "      <td>NaN</td>\n",
       "      <td>NaN</td>\n",
       "      <td>Level 3 Communications</td>\n",
       "      <td>NaN</td>\n",
       "      <td>HTTP/1.1 200</td>\n",
       "      <td>200</td>\n",
       "      <td>NaN</td>\n",
       "      <td>0</td>\n",
       "      <td>1</td>\n",
       "    </tr>\n",
       "  </tbody>\n",
       "</table>\n",
       "</div>"
      ],
      "text/plain": [
       "                                                                                                                                                                                                                                                                                                                                                                                                                                                                                               Banner  \\\n",
       "IP             Port                                                                                                                                                                                                                                                                                                                                                                                                                                                                                     \n",
       "192.150.16.10  4500.0  VPN (IKE NAT-T)\\n\\nInitiator SPI: e5f858a0876af576\\nResponder SPI: 977987b5d8e61320\\nNext Payload: Security Association (SA)\\nVersion: 1.0\\nExchange Type: Identity Protection\\nFlags:\\n    Encryption:     False\\n    Commit:         False\\n    Authentication: False\\nMessage ID: 00000000\\nLength: 80                                                                                                                                                                        \n",
       "192.150.16.163 443.0   HTTP/1.1 200 OK\\r\\nDate: Thu, 03 Nov 2016 03:55:51 GMT\\r\\nServer: Apache\\r\\nX-Adobe-Content: AEM,floodgate-pink\\r\\nX-Frame-Options: SAMEORIGIN\\r\\nVary: X-Adobe-SSL\\r\\nEdge-control: !no-store,max-age=15m\\r\\nAccept-Ranges: bytes\\r\\nCache-Control: max-age=900\\r\\nExpires: Thu, 03 Nov 2016 04:10:51 GMT\\r\\nX-dynaTrace: PT=13782565;PA=-1526674535;SP=prod;PS=170337423\\r\\nX-Adobe-Loc: da1\\r\\nTransfer-Encoding: chunked\\r\\nContent-Type: text/html; charset=UTF-8\\r\\n\\r\\n   \n",
       "\n",
       "                                        Timestamp       Hostnames  \\\n",
       "IP             Port                                                 \n",
       "192.150.16.10  4500.0  2016-11-03T04:05:11.336316  NaN              \n",
       "192.150.16.163 443.0   2016-11-03T03:55:58.497287  192.150.16.163   \n",
       "\n",
       "                             Country City Operating System  \\\n",
       "IP             Port                                          \n",
       "192.150.16.10  4500.0  United States  NaN  NaN               \n",
       "192.150.16.163 443.0   United States  NaN  NaN               \n",
       "\n",
       "                                 Organization Targetted      Response Webcode  \\\n",
       "IP             Port                                                             \n",
       "192.150.16.10  4500.0  Level 3 Communications  NaN       NaN           NaN      \n",
       "192.150.16.163 443.0   Level 3 Communications  NaN       HTTP/1.1 200  200      \n",
       "\n",
       "                      Domain prod live  \n",
       "IP             Port                     \n",
       "192.150.16.10  4500.0  NaN    0    0    \n",
       "192.150.16.163 443.0   NaN    0    1    "
      ]
     },
     "execution_count": 175,
     "metadata": {},
     "output_type": "execute_result"
    }
   ],
   "source": [
    "shodan_complete.head(2)"
   ]
  },
  {
   "cell_type": "code",
   "execution_count": 176,
   "metadata": {
    "collapsed": false,
    "scrolled": true
   },
   "outputs": [
    {
     "data": {
      "text/html": [
       "<div>\n",
       "<table border=\"1\" class=\"dataframe\">\n",
       "  <thead>\n",
       "    <tr style=\"text-align: right;\">\n",
       "      <th></th>\n",
       "      <th></th>\n",
       "      <th>Banner</th>\n",
       "      <th>Timestamp</th>\n",
       "      <th>Hostnames</th>\n",
       "      <th>Country</th>\n",
       "      <th>City</th>\n",
       "      <th>Operating System</th>\n",
       "      <th>Organization</th>\n",
       "      <th>Targetted</th>\n",
       "      <th>Response</th>\n",
       "      <th>Webcode</th>\n",
       "      <th>Domain</th>\n",
       "      <th>prod</th>\n",
       "      <th>live</th>\n",
       "      <th>attacked</th>\n",
       "    </tr>\n",
       "    <tr>\n",
       "      <th>IP</th>\n",
       "      <th>Port</th>\n",
       "      <th></th>\n",
       "      <th></th>\n",
       "      <th></th>\n",
       "      <th></th>\n",
       "      <th></th>\n",
       "      <th></th>\n",
       "      <th></th>\n",
       "      <th></th>\n",
       "      <th></th>\n",
       "      <th></th>\n",
       "      <th></th>\n",
       "      <th></th>\n",
       "      <th></th>\n",
       "      <th></th>\n",
       "    </tr>\n",
       "  </thead>\n",
       "  <tbody>\n",
       "    <tr>\n",
       "      <th>192.150.16.10</th>\n",
       "      <th>4500.0</th>\n",
       "      <td>VPN (IKE NAT-T)\\n\\nInitiator SPI: e5f858a0876af576\\nResponder SPI: 977987b5d8e61320\\nNext Payload: Security Association (SA)\\nVersion: 1.0\\nExchange Type: Identity Protection\\nFlags:\\n    Encryption:     False\\n    Commit:         False\\n    Authentication: False\\nMessage ID: 00000000\\nLength: 80</td>\n",
       "      <td>2016-11-03T04:05:11.336316</td>\n",
       "      <td>NaN</td>\n",
       "      <td>United States</td>\n",
       "      <td>NaN</td>\n",
       "      <td>NaN</td>\n",
       "      <td>Level 3 Communications</td>\n",
       "      <td>NaN</td>\n",
       "      <td>NaN</td>\n",
       "      <td>NaN</td>\n",
       "      <td>NaN</td>\n",
       "      <td>0</td>\n",
       "      <td>0</td>\n",
       "      <td>0</td>\n",
       "    </tr>\n",
       "    <tr>\n",
       "      <th>192.150.16.163</th>\n",
       "      <th>443.0</th>\n",
       "      <td>HTTP/1.1 200 OK\\r\\nDate: Thu, 03 Nov 2016 03:55:51 GMT\\r\\nServer: Apache\\r\\nX-Adobe-Content: AEM,floodgate-pink\\r\\nX-Frame-Options: SAMEORIGIN\\r\\nVary: X-Adobe-SSL\\r\\nEdge-control: !no-store,max-age=15m\\r\\nAccept-Ranges: bytes\\r\\nCache-Control: max-age=900\\r\\nExpires: Thu, 03 Nov 2016 04:10:51 GMT\\r\\nX-dynaTrace: PT=13782565;PA=-1526674535;SP=prod;PS=170337423\\r\\nX-Adobe-Loc: da1\\r\\nTransfer-Encoding: chunked\\r\\nContent-Type: text/html; charset=UTF-8\\r\\n\\r\\n</td>\n",
       "      <td>2016-11-03T03:55:58.497287</td>\n",
       "      <td>192.150.16.163</td>\n",
       "      <td>United States</td>\n",
       "      <td>NaN</td>\n",
       "      <td>NaN</td>\n",
       "      <td>Level 3 Communications</td>\n",
       "      <td>NaN</td>\n",
       "      <td>HTTP/1.1 200</td>\n",
       "      <td>200</td>\n",
       "      <td>NaN</td>\n",
       "      <td>0</td>\n",
       "      <td>1</td>\n",
       "      <td>0</td>\n",
       "    </tr>\n",
       "  </tbody>\n",
       "</table>\n",
       "</div>"
      ],
      "text/plain": [
       "                                                                                                                                                                                                                                                                                                                                                                                                                                                                                               Banner  \\\n",
       "IP             Port                                                                                                                                                                                                                                                                                                                                                                                                                                                                                     \n",
       "192.150.16.10  4500.0  VPN (IKE NAT-T)\\n\\nInitiator SPI: e5f858a0876af576\\nResponder SPI: 977987b5d8e61320\\nNext Payload: Security Association (SA)\\nVersion: 1.0\\nExchange Type: Identity Protection\\nFlags:\\n    Encryption:     False\\n    Commit:         False\\n    Authentication: False\\nMessage ID: 00000000\\nLength: 80                                                                                                                                                                        \n",
       "192.150.16.163 443.0   HTTP/1.1 200 OK\\r\\nDate: Thu, 03 Nov 2016 03:55:51 GMT\\r\\nServer: Apache\\r\\nX-Adobe-Content: AEM,floodgate-pink\\r\\nX-Frame-Options: SAMEORIGIN\\r\\nVary: X-Adobe-SSL\\r\\nEdge-control: !no-store,max-age=15m\\r\\nAccept-Ranges: bytes\\r\\nCache-Control: max-age=900\\r\\nExpires: Thu, 03 Nov 2016 04:10:51 GMT\\r\\nX-dynaTrace: PT=13782565;PA=-1526674535;SP=prod;PS=170337423\\r\\nX-Adobe-Loc: da1\\r\\nTransfer-Encoding: chunked\\r\\nContent-Type: text/html; charset=UTF-8\\r\\n\\r\\n   \n",
       "\n",
       "                                        Timestamp       Hostnames  \\\n",
       "IP             Port                                                 \n",
       "192.150.16.10  4500.0  2016-11-03T04:05:11.336316  NaN              \n",
       "192.150.16.163 443.0   2016-11-03T03:55:58.497287  192.150.16.163   \n",
       "\n",
       "                             Country City Operating System  \\\n",
       "IP             Port                                          \n",
       "192.150.16.10  4500.0  United States  NaN  NaN               \n",
       "192.150.16.163 443.0   United States  NaN  NaN               \n",
       "\n",
       "                                 Organization Targetted      Response Webcode  \\\n",
       "IP             Port                                                             \n",
       "192.150.16.10  4500.0  Level 3 Communications  NaN       NaN           NaN      \n",
       "192.150.16.163 443.0   Level 3 Communications  NaN       HTTP/1.1 200  200      \n",
       "\n",
       "                      Domain prod live attacked  \n",
       "IP             Port                              \n",
       "192.150.16.10  4500.0  NaN    0    0    0        \n",
       "192.150.16.163 443.0   NaN    0    1    0        "
      ]
     },
     "execution_count": 176,
     "metadata": {},
     "output_type": "execute_result"
    }
   ],
   "source": [
    "# Create a new column called shodan_complete.attacked where the value is yes\n",
    "# if shodan_complete.Targetted is 'Yes' and no if not\n",
    "shodan_complete['attacked'] = np.where(shodan_complete['Targetted']=='Yes', '1', '0')\n",
    "shodan_complete.head(2)"
   ]
  },
  {
   "cell_type": "code",
   "execution_count": 177,
   "metadata": {
    "collapsed": false
   },
   "outputs": [],
   "source": [
    "#sdtest=shodan_complete[['IP','prod','live','attacked']]\n",
    "columns = ['IP', 'prod', 'live', 'attacked']\n",
    "df1 = pd.DataFrame(shodan_complete, columns=columns)"
   ]
  },
  {
   "cell_type": "code",
   "execution_count": 178,
   "metadata": {
    "collapsed": false
   },
   "outputs": [
    {
     "data": {
      "text/html": [
       "<div>\n",
       "<table border=\"1\" class=\"dataframe\">\n",
       "  <thead>\n",
       "    <tr style=\"text-align: right;\">\n",
       "      <th></th>\n",
       "      <th></th>\n",
       "      <th>IP</th>\n",
       "      <th>prod</th>\n",
       "      <th>live</th>\n",
       "      <th>attacked</th>\n",
       "    </tr>\n",
       "    <tr>\n",
       "      <th>IP</th>\n",
       "      <th>Port</th>\n",
       "      <th></th>\n",
       "      <th></th>\n",
       "      <th></th>\n",
       "      <th></th>\n",
       "    </tr>\n",
       "  </thead>\n",
       "  <tbody>\n",
       "    <tr>\n",
       "      <th>192.150.16.10</th>\n",
       "      <th>4500.0</th>\n",
       "      <td>NaN</td>\n",
       "      <td>0</td>\n",
       "      <td>0</td>\n",
       "      <td>0</td>\n",
       "    </tr>\n",
       "    <tr>\n",
       "      <th>192.150.16.163</th>\n",
       "      <th>443.0</th>\n",
       "      <td>NaN</td>\n",
       "      <td>0</td>\n",
       "      <td>1</td>\n",
       "      <td>0</td>\n",
       "    </tr>\n",
       "    <tr>\n",
       "      <th>192.150.16.202</th>\n",
       "      <th>443.0</th>\n",
       "      <td>NaN</td>\n",
       "      <td>0</td>\n",
       "      <td>1</td>\n",
       "      <td>0</td>\n",
       "    </tr>\n",
       "    <tr>\n",
       "      <th rowspan=\"2\" valign=\"top\">192.150.9.29</th>\n",
       "      <th>443.0</th>\n",
       "      <td>NaN</td>\n",
       "      <td>0</td>\n",
       "      <td>1</td>\n",
       "      <td>0</td>\n",
       "    </tr>\n",
       "    <tr>\n",
       "      <th>500.0</th>\n",
       "      <td>NaN</td>\n",
       "      <td>0</td>\n",
       "      <td>0</td>\n",
       "      <td>0</td>\n",
       "    </tr>\n",
       "  </tbody>\n",
       "</table>\n",
       "</div>"
      ],
      "text/plain": [
       "                       IP prod live attacked\n",
       "IP             Port                         \n",
       "192.150.16.10  4500.0 NaN  0    0    0      \n",
       "192.150.16.163 443.0  NaN  0    1    0      \n",
       "192.150.16.202 443.0  NaN  0    1    0      \n",
       "192.150.9.29   443.0  NaN  0    1    0      \n",
       "               500.0  NaN  0    0    0      "
      ]
     },
     "execution_count": 178,
     "metadata": {},
     "output_type": "execute_result"
    }
   ],
   "source": [
    "df1.head()"
   ]
  },
  {
   "cell_type": "markdown",
   "metadata": {},
   "source": [
    "# Plotting Data"
   ]
  },
  {
   "cell_type": "code",
   "execution_count": 181,
   "metadata": {
    "collapsed": false
   },
   "outputs": [
    {
     "ename": "TypeError",
     "evalue": "unsupported operand type(s) for +: 'float' and 'str'",
     "output_type": "error",
     "traceback": [
      "\u001b[1;31m---------------------------------------------------------------------------\u001b[0m",
      "\u001b[1;31mTypeError\u001b[0m                                 Traceback (most recent call last)",
      "\u001b[1;32m<ipython-input-181-61c823ef7916>\u001b[0m in \u001b[0;36m<module>\u001b[1;34m()\u001b[0m\n\u001b[0;32m      1\u001b[0m \u001b[0mget_ipython\u001b[0m\u001b[1;33m(\u001b[0m\u001b[1;33m)\u001b[0m\u001b[1;33m.\u001b[0m\u001b[0mmagic\u001b[0m\u001b[1;33m(\u001b[0m\u001b[1;34mu'matplotlib inline'\u001b[0m\u001b[1;33m)\u001b[0m\u001b[1;33m\u001b[0m\u001b[0m\n\u001b[0;32m      2\u001b[0m \u001b[1;32mimport\u001b[0m \u001b[0mseaborn\u001b[0m \u001b[1;32mas\u001b[0m \u001b[0msns\u001b[0m\u001b[1;33m\u001b[0m\u001b[0m\n\u001b[1;32m----> 3\u001b[1;33m \u001b[0msns\u001b[0m\u001b[1;33m.\u001b[0m\u001b[0mdistplot\u001b[0m\u001b[1;33m(\u001b[0m\u001b[0mdf1\u001b[0m\u001b[1;33m,\u001b[0m \u001b[0mbins\u001b[0m\u001b[1;33m=\u001b[0m\u001b[0mNone\u001b[0m\u001b[1;33m,\u001b[0m \u001b[0mhist\u001b[0m\u001b[1;33m=\u001b[0m\u001b[0mTrue\u001b[0m\u001b[1;33m,\u001b[0m \u001b[0mkde\u001b[0m\u001b[1;33m=\u001b[0m\u001b[0mTrue\u001b[0m\u001b[1;33m,\u001b[0m \u001b[0mrug\u001b[0m\u001b[1;33m=\u001b[0m\u001b[0mFalse\u001b[0m\u001b[1;33m,\u001b[0m \u001b[0mfit\u001b[0m\u001b[1;33m=\u001b[0m\u001b[0mNone\u001b[0m\u001b[1;33m,\u001b[0m \u001b[0mhist_kws\u001b[0m\u001b[1;33m=\u001b[0m\u001b[0mNone\u001b[0m\u001b[1;33m,\u001b[0m \u001b[0mkde_kws\u001b[0m\u001b[1;33m=\u001b[0m\u001b[0mNone\u001b[0m\u001b[1;33m,\u001b[0m \u001b[0mrug_kws\u001b[0m\u001b[1;33m=\u001b[0m\u001b[0mNone\u001b[0m\u001b[1;33m,\u001b[0m \u001b[0mfit_kws\u001b[0m\u001b[1;33m=\u001b[0m\u001b[0mNone\u001b[0m\u001b[1;33m,\u001b[0m \u001b[0mcolor\u001b[0m\u001b[1;33m=\u001b[0m\u001b[0mNone\u001b[0m\u001b[1;33m,\u001b[0m \u001b[0mvertical\u001b[0m\u001b[1;33m=\u001b[0m\u001b[0mFalse\u001b[0m\u001b[1;33m,\u001b[0m \u001b[0mnorm_hist\u001b[0m\u001b[1;33m=\u001b[0m\u001b[0mFalse\u001b[0m\u001b[1;33m,\u001b[0m \u001b[0maxlabel\u001b[0m\u001b[1;33m=\u001b[0m\u001b[0mNone\u001b[0m\u001b[1;33m,\u001b[0m \u001b[0mlabel\u001b[0m\u001b[1;33m=\u001b[0m\u001b[0mNone\u001b[0m\u001b[1;33m,\u001b[0m \u001b[0max\u001b[0m\u001b[1;33m=\u001b[0m\u001b[0mNone\u001b[0m\u001b[1;33m)\u001b[0m\u001b[1;33m\u001b[0m\u001b[0m\n\u001b[0m",
      "\u001b[1;32mC:\\Users\\arona\\Anaconda2\\lib\\site-packages\\seaborn\\distributions.pyc\u001b[0m in \u001b[0;36mdistplot\u001b[1;34m(a, bins, hist, kde, rug, fit, hist_kws, kde_kws, rug_kws, fit_kws, color, vertical, norm_hist, axlabel, label, ax)\u001b[0m\n\u001b[0;32m    190\u001b[0m             \u001b[0mline\u001b[0m\u001b[1;33m,\u001b[0m \u001b[1;33m=\u001b[0m \u001b[0max\u001b[0m\u001b[1;33m.\u001b[0m\u001b[0mplot\u001b[0m\u001b[1;33m(\u001b[0m\u001b[1;36m0\u001b[0m\u001b[1;33m,\u001b[0m \u001b[0ma\u001b[0m\u001b[1;33m.\u001b[0m\u001b[0mmean\u001b[0m\u001b[1;33m(\u001b[0m\u001b[1;33m)\u001b[0m\u001b[1;33m)\u001b[0m\u001b[1;33m\u001b[0m\u001b[0m\n\u001b[0;32m    191\u001b[0m         \u001b[1;32melse\u001b[0m\u001b[1;33m:\u001b[0m\u001b[1;33m\u001b[0m\u001b[0m\n\u001b[1;32m--> 192\u001b[1;33m             \u001b[0mline\u001b[0m\u001b[1;33m,\u001b[0m \u001b[1;33m=\u001b[0m \u001b[0max\u001b[0m\u001b[1;33m.\u001b[0m\u001b[0mplot\u001b[0m\u001b[1;33m(\u001b[0m\u001b[0ma\u001b[0m\u001b[1;33m.\u001b[0m\u001b[0mmean\u001b[0m\u001b[1;33m(\u001b[0m\u001b[1;33m)\u001b[0m\u001b[1;33m,\u001b[0m \u001b[1;36m0\u001b[0m\u001b[1;33m)\u001b[0m\u001b[1;33m\u001b[0m\u001b[0m\n\u001b[0m\u001b[0;32m    193\u001b[0m         \u001b[0mcolor\u001b[0m \u001b[1;33m=\u001b[0m \u001b[0mline\u001b[0m\u001b[1;33m.\u001b[0m\u001b[0mget_color\u001b[0m\u001b[1;33m(\u001b[0m\u001b[1;33m)\u001b[0m\u001b[1;33m\u001b[0m\u001b[0m\n\u001b[0;32m    194\u001b[0m         \u001b[0mline\u001b[0m\u001b[1;33m.\u001b[0m\u001b[0mremove\u001b[0m\u001b[1;33m(\u001b[0m\u001b[1;33m)\u001b[0m\u001b[1;33m\u001b[0m\u001b[0m\n",
      "\u001b[1;32mC:\\Users\\arona\\Anaconda2\\lib\\site-packages\\numpy\\core\\_methods.pyc\u001b[0m in \u001b[0;36m_mean\u001b[1;34m(a, axis, dtype, out, keepdims)\u001b[0m\n\u001b[0;32m     63\u001b[0m         \u001b[0mdtype\u001b[0m \u001b[1;33m=\u001b[0m \u001b[0mmu\u001b[0m\u001b[1;33m.\u001b[0m\u001b[0mdtype\u001b[0m\u001b[1;33m(\u001b[0m\u001b[1;34m'f8'\u001b[0m\u001b[1;33m)\u001b[0m\u001b[1;33m\u001b[0m\u001b[0m\n\u001b[0;32m     64\u001b[0m \u001b[1;33m\u001b[0m\u001b[0m\n\u001b[1;32m---> 65\u001b[1;33m     \u001b[0mret\u001b[0m \u001b[1;33m=\u001b[0m \u001b[0mumr_sum\u001b[0m\u001b[1;33m(\u001b[0m\u001b[0marr\u001b[0m\u001b[1;33m,\u001b[0m \u001b[0maxis\u001b[0m\u001b[1;33m,\u001b[0m \u001b[0mdtype\u001b[0m\u001b[1;33m,\u001b[0m \u001b[0mout\u001b[0m\u001b[1;33m,\u001b[0m \u001b[0mkeepdims\u001b[0m\u001b[1;33m)\u001b[0m\u001b[1;33m\u001b[0m\u001b[0m\n\u001b[0m\u001b[0;32m     66\u001b[0m     \u001b[1;32mif\u001b[0m \u001b[0misinstance\u001b[0m\u001b[1;33m(\u001b[0m\u001b[0mret\u001b[0m\u001b[1;33m,\u001b[0m \u001b[0mmu\u001b[0m\u001b[1;33m.\u001b[0m\u001b[0mndarray\u001b[0m\u001b[1;33m)\u001b[0m\u001b[1;33m:\u001b[0m\u001b[1;33m\u001b[0m\u001b[0m\n\u001b[0;32m     67\u001b[0m         ret = um.true_divide(\n",
      "\u001b[1;31mTypeError\u001b[0m: unsupported operand type(s) for +: 'float' and 'str'"
     ]
    },
    {
     "data": {
      "image/png": "[encoded data removed]",
      "text/plain": [
       "<matplotlib.figure.Figure at 0xbc834a8>"
      ]
     },
     "metadata": {},
     "output_type": "display_data"
    }
   ],
   "source": [
    "%matplotlib inline\n",
    "import seaborn as sns\n",
    "sns.distplot(df1, bins=None, hist=True, kde=True, rug=False, fit=None, hist_kws=None, kde_kws=None, rug_kws=None, fit_kws=None, color=None, vertical=False, norm_hist=False, axlabel=None, label=None, ax=None)"
   ]
  },
  {
   "cell_type": "code",
   "execution_count": null,
   "metadata": {
    "collapsed": true
   },
   "outputs": [],
   "source": []
  },
  {
   "cell_type": "code",
   "execution_count": null,
   "metadata": {
    "collapsed": false
   },
   "outputs": [],
   "source": [
    "# box plot of all numeric columns grouped by continent\n",
    "shodan_complete.boxplot(by='live')"
   ]
  },
  {
   "cell_type": "code",
   "execution_count": null,
   "metadata": {
    "collapsed": true
   },
   "outputs": [],
   "source": []
  }
 ],
 "metadata": {
  "kernelspec": {
   "display_name": "Python 2",
   "language": "python",
   "name": "python2"
  },
  "language_info": {
   "codemirror_mode": {
    "name": "ipython",
    "version": 2
   },
   "file_extension": ".py",
   "mimetype": "text/x-python",
   "name": "python",
   "nbconvert_exporter": "python",
   "pygments_lexer": "ipython2",
   "version": "2.7.11"
  }
 },
 "nbformat": 4,
 "nbformat_minor": 0
}
