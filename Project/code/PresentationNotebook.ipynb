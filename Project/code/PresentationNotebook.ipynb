{
 "cells": [
  {
   "cell_type": "markdown",
   "metadata": {},
   "source": [
    "## Improving Incident Identifcation and Resonse Time\n",
    "There are limited security resources to monitor and respond to attacks on an increasing number of ephermal hosts and services. These hosts and services are now typically cloud based using the [DevOps model](https://en.wikipedia.org/wiki/DevOps) for deployment and management. This model makes identifying risk more difficult prior to service deployment and necessitates an automated solution to keep up with the environmental changes. \n",
    "\n",
    "\"Time to compromise is almost always days or less, if not minues or less\" - Verizon DBIR 2016"
   ]
  },
  {
   "cell_type": "markdown",
   "metadata": {},
   "source": [
    "\n",
    "## Description of your data set and how it was obtained\n",
    "* [Shodan](https://www.shodan.io/)\n",
    "  * Public queries saved as CSV and downloaded\n",
    "  * Data includes IP, domain and service details that are publicly searchable. Tool is commmonly used by attackers as part of the initial recon effort when defining a target. For example, what does the external presence of an organization include and what could be exploited\n",
    "* [Public data on AS networks](https://en.wikipedia.org/wiki/Autonomous_system_(Internet)\n",
    " * Public data on which networks (ASN to IP address) are tied with any company or resource. Information is then fed into a tool like Shodan or uesd to execute new network scans, define targets, etc... Also assists in defining those networks that might be less protected\n",
    "* Sanitized firewall data on network connections\n",
    "  * Query by 'live' IP's collected in step one\n",
    "  * Organized by GEO, Port dst, and frequency\n",
    "  * Based on actual network/FW events showing traffic patterns\n",
    "  \n",
    "[Data repository on GitHub](https://github.com/dsarona/ds_class/tree/master/Project/data)"
   ]
  },
  {
   "cell_type": "markdown",
   "metadata": {},
   "source": [
    "## Description of any pre-processing steps you took\n",
    "* File Preparation\n",
    "  * For Shodan data, execution of the right queries based on ASN followed by pulling down results in CSV. Because each ASN was its own report data combined into one CSV before import\n",
    "* Data Review and Manipulation\n",
    "  * Shodan Data\n",
    "    * Slicing of banner field to create the Response column\n",
    "       * shodan_complete['Response']=shodan_complete['Banner'].str.extract(r'(HTTP.\\d.\\d.\\d\\d\\d)', expand=True)\n",
    "    * Slicing of the host field to create the Domain column\n",
    "    * Slicing of the banner field to create the webcode column\n",
    "    * New columns based on 'webcode' and 'domain' - dummy values representing column entries\n",
    "  * Firewall Data\n",
    "    * By IP address all traffic for two 24 hour windows that matches the following:\n",
    "        * Allow to DST IP at Adobe (based on live hosts from Shodan data)\n",
    "        * Source from suspect GEO\n",
    "        * Removal of outliers used for product activation\n",
    "        * Anonymizing of all Russia/China/Iran/N.Korea traffic to 1 or 0 (1 = traffic present, 2 = nothing from that GEO)\n",
    "* Data Import (grab from Shodan DF)\n",
    "* Key fields to be used (y and x)\n",
    "   * Targetted field for the Y, represents those IP's where FW traffic was allowed from Russia/China/Iran/N.Korea IP\n",
    "   * X to be set with service type (production, dev or testing), service status (web response code), and which destination ports were used "
   ]
  },
  {
   "cell_type": "code",
   "execution_count": 2,
   "metadata": {
    "collapsed": true
   },
   "outputs": [],
   "source": [
    "# access data using a relative path, Shodan only data currently\n",
    "import pandas as pd\n",
    "import re as r\n",
    "import numpy as np\n",
    "import matplotlib.pyplot as plt\n",
    "shodan1 = pd.read_csv('./data/shodan_data_1313.csv', parse_dates=True)\n",
    "shodan2 = pd.read_csv('./data/shodan_data_14365.csv', parse_dates=True)\n",
    "shodan3 = pd.read_csv('./data/shodan_data_44786.csv', parse_dates=True)"
   ]
  },
  {
   "cell_type": "code",
   "execution_count": 3,
   "metadata": {
    "collapsed": false
   },
   "outputs": [
    {
     "data": {
      "text/plain": [
       "(348, 9)"
      ]
     },
     "execution_count": 3,
     "metadata": {},
     "output_type": "execute_result"
    }
   ],
   "source": [
    "frames = [shodan1, shodan2, shodan3]\n",
    "shodan = pd.concat(frames)\n",
    "shodan.shape"
   ]
  },
  {
   "cell_type": "code",
   "execution_count": 4,
   "metadata": {
    "collapsed": false
   },
   "outputs": [
    {
     "data": {
      "text/html": [
       "<div>\n",
       "<table border=\"1\" class=\"dataframe\">\n",
       "  <thead>\n",
       "    <tr style=\"text-align: right;\">\n",
       "      <th></th>\n",
       "      <th>Destination IP</th>\n",
       "      <th>Targetted</th>\n",
       "    </tr>\n",
       "  </thead>\n",
       "  <tbody>\n",
       "    <tr>\n",
       "      <th>0</th>\n",
       "      <td>216.104.209.254</td>\n",
       "      <td>Yes</td>\n",
       "    </tr>\n",
       "    <tr>\n",
       "      <th>1</th>\n",
       "      <td>216.104.209.253</td>\n",
       "      <td>Yes</td>\n",
       "    </tr>\n",
       "  </tbody>\n",
       "</table>\n",
       "</div>"
      ],
      "text/plain": [
       "    Destination IP Targetted\n",
       "0  216.104.209.254       Yes\n",
       "1  216.104.209.253       Yes"
      ]
     },
     "execution_count": 4,
     "metadata": {},
     "output_type": "execute_result"
    }
   ],
   "source": [
    "fwdata = pd.read_excel(open('./data/GEO2_1.xls','rb'), sheetname='report')\n",
    "fwdata.head(2)"
   ]
  },
  {
   "cell_type": "code",
   "execution_count": 6,
   "metadata": {
    "collapsed": false
   },
   "outputs": [],
   "source": [
    "#frames2 = [shodan, fwdata]\n",
    "fwdata.rename(columns={'Destination IP':'IP'}, inplace=True)\n",
    "shodan_complete = pd.merge(shodan, fwdata, how='outer')"
   ]
  },
  {
   "cell_type": "code",
   "execution_count": 7,
   "metadata": {
    "collapsed": false
   },
   "outputs": [
    {
     "data": {
      "text/html": [
       "<div>\n",
       "<table border=\"1\" class=\"dataframe\">\n",
       "  <thead>\n",
       "    <tr style=\"text-align: right;\">\n",
       "      <th></th>\n",
       "      <th>IP</th>\n",
       "      <th>Port</th>\n",
       "      <th>Banner</th>\n",
       "      <th>Timestamp</th>\n",
       "      <th>Hostnames</th>\n",
       "      <th>Country</th>\n",
       "      <th>City</th>\n",
       "      <th>Operating System</th>\n",
       "      <th>Organization</th>\n",
       "      <th>Targetted</th>\n",
       "    </tr>\n",
       "  </thead>\n",
       "  <tbody>\n",
       "    <tr>\n",
       "      <th>0</th>\n",
       "      <td>192.150.16.10</td>\n",
       "      <td>4500.0</td>\n",
       "      <td>VPN (IKE NAT-T)\\n\\nInitiator SPI: e5f858a0876af576\\nResponder SPI: 977987b5d8e61320\\nNext Payload: Security Association (SA)\\nVersion: 1.0\\nExchange Type: Identity Protection\\nFlags:\\n    Encryption:     False\\n    Commit:         False\\n    Authentication: False\\nMessage ID: 00000000\\nLength: 80</td>\n",
       "      <td>2016-11-03T04:05:11.336316</td>\n",
       "      <td>NaN</td>\n",
       "      <td>United States</td>\n",
       "      <td>NaN</td>\n",
       "      <td>NaN</td>\n",
       "      <td>Level 3 Communications</td>\n",
       "      <td>NaN</td>\n",
       "    </tr>\n",
       "    <tr>\n",
       "      <th>1</th>\n",
       "      <td>192.150.16.163</td>\n",
       "      <td>443.0</td>\n",
       "      <td>HTTP/1.1 200 OK\\r\\nDate: Thu, 03 Nov 2016 03:55:51 GMT\\r\\nServer: Apache\\r\\nX-Adobe-Content: AEM,floodgate-pink\\r\\nX-Frame-Options: SAMEORIGIN\\r\\nVary: X-Adobe-SSL\\r\\nEdge-control: !no-store,max-age=15m\\r\\nAccept-Ranges: bytes\\r\\nCache-Control: max-age=900\\r\\nExpires: Thu, 03 Nov 2016 04:10:51 GMT\\r\\nX-dynaTrace: PT=13782565;PA=-1526674535;SP=prod;PS=170337423\\r\\nX-Adobe-Loc: da1\\r\\nTransfer-Encoding: chunked\\r\\nContent-Type: text/html; charset=UTF-8\\r\\n\\r\\n</td>\n",
       "      <td>2016-11-03T03:55:58.497287</td>\n",
       "      <td>192.150.16.163</td>\n",
       "      <td>United States</td>\n",
       "      <td>NaN</td>\n",
       "      <td>NaN</td>\n",
       "      <td>Level 3 Communications</td>\n",
       "      <td>NaN</td>\n",
       "    </tr>\n",
       "  </tbody>\n",
       "</table>\n",
       "</div>"
      ],
      "text/plain": [
       "               IP    Port  \\\n",
       "0  192.150.16.10   4500.0   \n",
       "1  192.150.16.163  443.0    \n",
       "\n",
       "                                                                                                                                                                                                                                                                                                                                                                                                                                                                           Banner  \\\n",
       "0  VPN (IKE NAT-T)\\n\\nInitiator SPI: e5f858a0876af576\\nResponder SPI: 977987b5d8e61320\\nNext Payload: Security Association (SA)\\nVersion: 1.0\\nExchange Type: Identity Protection\\nFlags:\\n    Encryption:     False\\n    Commit:         False\\n    Authentication: False\\nMessage ID: 00000000\\nLength: 80                                                                                                                                                                        \n",
       "1  HTTP/1.1 200 OK\\r\\nDate: Thu, 03 Nov 2016 03:55:51 GMT\\r\\nServer: Apache\\r\\nX-Adobe-Content: AEM,floodgate-pink\\r\\nX-Frame-Options: SAMEORIGIN\\r\\nVary: X-Adobe-SSL\\r\\nEdge-control: !no-store,max-age=15m\\r\\nAccept-Ranges: bytes\\r\\nCache-Control: max-age=900\\r\\nExpires: Thu, 03 Nov 2016 04:10:51 GMT\\r\\nX-dynaTrace: PT=13782565;PA=-1526674535;SP=prod;PS=170337423\\r\\nX-Adobe-Loc: da1\\r\\nTransfer-Encoding: chunked\\r\\nContent-Type: text/html; charset=UTF-8\\r\\n\\r\\n   \n",
       "\n",
       "                    Timestamp       Hostnames        Country City  \\\n",
       "0  2016-11-03T04:05:11.336316  NaN             United States  NaN   \n",
       "1  2016-11-03T03:55:58.497287  192.150.16.163  United States  NaN   \n",
       "\n",
       "  Operating System            Organization Targetted  \n",
       "0  NaN              Level 3 Communications  NaN       \n",
       "1  NaN              Level 3 Communications  NaN       "
      ]
     },
     "execution_count": 7,
     "metadata": {},
     "output_type": "execute_result"
    }
   ],
   "source": [
    "pd.set_option('display.max_colwidth', -1)\n",
    "shodan_complete.head(2)"
   ]
  },
  {
   "cell_type": "markdown",
   "metadata": {},
   "source": [
    "## What you learned from exploring the data, including visualizations\n",
    "* There is a significant number of external hosts available that don't appear to provide a business purpose. At least not one tied to the web ports open - no website running or providing a valid response\n",
    "* The amount of 'suspect' traffic from certain GEO's was much larger than expected. Would appear that recon activity is nearly non-stop in some cases\n",
    "* Some FW policy doesn't match expectations - allowed to IP's not currently in production"
   ]
  },
  {
   "cell_type": "code",
   "execution_count": 40,
   "metadata": {
    "collapsed": false
   },
   "outputs": [
    {
     "data": {
      "text/html": [
       "<div>\n",
       "<table border=\"1\" class=\"dataframe\">\n",
       "  <thead>\n",
       "    <tr style=\"text-align: right;\">\n",
       "      <th></th>\n",
       "      <th>IP</th>\n",
       "      <th>Port</th>\n",
       "      <th>Banner</th>\n",
       "      <th>Timestamp</th>\n",
       "      <th>Hostnames</th>\n",
       "      <th>Country</th>\n",
       "      <th>City</th>\n",
       "      <th>Operating System</th>\n",
       "      <th>Organization</th>\n",
       "      <th>Targetted</th>\n",
       "      <th>Response</th>\n",
       "      <th>Webcode</th>\n",
       "      <th>Domain</th>\n",
       "      <th>live</th>\n",
       "      <th>attacked</th>\n",
       "      <th>prod</th>\n",
       "    </tr>\n",
       "  </thead>\n",
       "  <tbody>\n",
       "    <tr>\n",
       "      <th>1062</th>\n",
       "      <td>153.32.227.124</td>\n",
       "      <td>NaN</td>\n",
       "      <td>NaN</td>\n",
       "      <td>NaN</td>\n",
       "      <td>NaN</td>\n",
       "      <td>NaN</td>\n",
       "      <td>NaN</td>\n",
       "      <td>NaN</td>\n",
       "      <td>NaN</td>\n",
       "      <td>Yes</td>\n",
       "      <td>NaN</td>\n",
       "      <td>NaN</td>\n",
       "      <td>NaN</td>\n",
       "      <td>0</td>\n",
       "      <td>1</td>\n",
       "      <td>0</td>\n",
       "    </tr>\n",
       "    <tr>\n",
       "      <th>1063</th>\n",
       "      <td>153.32.223.141</td>\n",
       "      <td>NaN</td>\n",
       "      <td>NaN</td>\n",
       "      <td>NaN</td>\n",
       "      <td>NaN</td>\n",
       "      <td>NaN</td>\n",
       "      <td>NaN</td>\n",
       "      <td>NaN</td>\n",
       "      <td>NaN</td>\n",
       "      <td>Yes</td>\n",
       "      <td>NaN</td>\n",
       "      <td>NaN</td>\n",
       "      <td>NaN</td>\n",
       "      <td>0</td>\n",
       "      <td>1</td>\n",
       "      <td>0</td>\n",
       "    </tr>\n",
       "    <tr>\n",
       "      <th>1064</th>\n",
       "      <td>153.32.221.153</td>\n",
       "      <td>NaN</td>\n",
       "      <td>NaN</td>\n",
       "      <td>NaN</td>\n",
       "      <td>NaN</td>\n",
       "      <td>NaN</td>\n",
       "      <td>NaN</td>\n",
       "      <td>NaN</td>\n",
       "      <td>NaN</td>\n",
       "      <td>Yes</td>\n",
       "      <td>NaN</td>\n",
       "      <td>NaN</td>\n",
       "      <td>NaN</td>\n",
       "      <td>0</td>\n",
       "      <td>1</td>\n",
       "      <td>0</td>\n",
       "    </tr>\n",
       "    <tr>\n",
       "      <th>1065</th>\n",
       "      <td>153.32.221.147</td>\n",
       "      <td>NaN</td>\n",
       "      <td>NaN</td>\n",
       "      <td>NaN</td>\n",
       "      <td>NaN</td>\n",
       "      <td>NaN</td>\n",
       "      <td>NaN</td>\n",
       "      <td>NaN</td>\n",
       "      <td>NaN</td>\n",
       "      <td>Yes</td>\n",
       "      <td>NaN</td>\n",
       "      <td>NaN</td>\n",
       "      <td>NaN</td>\n",
       "      <td>0</td>\n",
       "      <td>1</td>\n",
       "      <td>0</td>\n",
       "    </tr>\n",
       "  </tbody>\n",
       "</table>\n",
       "</div>"
      ],
      "text/plain": [
       "                  IP  Port Banner Timestamp Hostnames Country City  \\\n",
       "1062  153.32.227.124 NaN    NaN    NaN       NaN       NaN     NaN   \n",
       "1063  153.32.223.141 NaN    NaN    NaN       NaN       NaN     NaN   \n",
       "1064  153.32.221.153 NaN    NaN    NaN       NaN       NaN     NaN   \n",
       "1065  153.32.221.147 NaN    NaN    NaN       NaN       NaN     NaN   \n",
       "\n",
       "     Operating System Organization Targetted Response Webcode Domain live  \\\n",
       "1062  NaN              NaN          Yes       NaN      NaN     NaN    0     \n",
       "1063  NaN              NaN          Yes       NaN      NaN     NaN    0     \n",
       "1064  NaN              NaN          Yes       NaN      NaN     NaN    0     \n",
       "1065  NaN              NaN          Yes       NaN      NaN     NaN    0     \n",
       "\n",
       "     attacked prod  \n",
       "1062  1        0    \n",
       "1063  1        0    \n",
       "1064  1        0    \n",
       "1065  1        0    "
      ]
     },
     "execution_count": 40,
     "metadata": {},
     "output_type": "execute_result"
    }
   ],
   "source": [
    "import numpy as np\n",
    "shodan_complete['Response']=shodan_complete['Banner'].str.extract(r'(HTTP.\\d.\\d.\\d\\d\\d)', expand=True)\n",
    "shodan_complete['Response']=shodan_complete['Banner'].str.extract(r'(HTTP.\\d.\\d.\\d\\d\\d)', expand=True)\n",
    "shodan_complete['Webcode']=shodan_complete['Response'].str.extract(r'\\s(\\d\\d\\d)', expand=True)\n",
    "shodan_complete['Domain']=shodan_complete['Hostnames'].str.extract(r'\\.(.*?)\\.com', expand=True)\n",
    "shodan_complete.tail(4)"
   ]
  },
  {
   "cell_type": "code",
   "execution_count": 41,
   "metadata": {
    "collapsed": false
   },
   "outputs": [
    {
     "data": {
      "text/html": [
       "<div>\n",
       "<table border=\"1\" class=\"dataframe\">\n",
       "  <thead>\n",
       "    <tr style=\"text-align: right;\">\n",
       "      <th></th>\n",
       "      <th>IP</th>\n",
       "      <th>Port</th>\n",
       "      <th>Banner</th>\n",
       "      <th>Timestamp</th>\n",
       "      <th>Hostnames</th>\n",
       "      <th>Country</th>\n",
       "      <th>City</th>\n",
       "      <th>Operating System</th>\n",
       "      <th>Organization</th>\n",
       "      <th>Targetted</th>\n",
       "      <th>Response</th>\n",
       "      <th>Webcode</th>\n",
       "      <th>Domain</th>\n",
       "      <th>live</th>\n",
       "      <th>attacked</th>\n",
       "      <th>prod</th>\n",
       "    </tr>\n",
       "  </thead>\n",
       "  <tbody>\n",
       "    <tr>\n",
       "      <th>0</th>\n",
       "      <td>192.150.16.10</td>\n",
       "      <td>4500.0</td>\n",
       "      <td>VPN (IKE NAT-T)\\n\\nInitiator SPI: e5f858a0876af576\\nResponder SPI: 977987b5d8e61320\\nNext Payload: Security Association (SA)\\nVersion: 1.0\\nExchange Type: Identity Protection\\nFlags:\\n    Encryption:     False\\n    Commit:         False\\n    Authentication: False\\nMessage ID: 00000000\\nLength: 80</td>\n",
       "      <td>2016-11-03T04:05:11.336316</td>\n",
       "      <td>NaN</td>\n",
       "      <td>United States</td>\n",
       "      <td>NaN</td>\n",
       "      <td>NaN</td>\n",
       "      <td>Level 3 Communications</td>\n",
       "      <td>NaN</td>\n",
       "      <td>NaN</td>\n",
       "      <td>NaN</td>\n",
       "      <td>NaN</td>\n",
       "      <td>0</td>\n",
       "      <td>0</td>\n",
       "      <td>0</td>\n",
       "    </tr>\n",
       "    <tr>\n",
       "      <th>1</th>\n",
       "      <td>192.150.16.163</td>\n",
       "      <td>443.0</td>\n",
       "      <td>HTTP/1.1 200 OK\\r\\nDate: Thu, 03 Nov 2016 03:55:51 GMT\\r\\nServer: Apache\\r\\nX-Adobe-Content: AEM,floodgate-pink\\r\\nX-Frame-Options: SAMEORIGIN\\r\\nVary: X-Adobe-SSL\\r\\nEdge-control: !no-store,max-age=15m\\r\\nAccept-Ranges: bytes\\r\\nCache-Control: max-age=900\\r\\nExpires: Thu, 03 Nov 2016 04:10:51 GMT\\r\\nX-dynaTrace: PT=13782565;PA=-1526674535;SP=prod;PS=170337423\\r\\nX-Adobe-Loc: da1\\r\\nTransfer-Encoding: chunked\\r\\nContent-Type: text/html; charset=UTF-8\\r\\n\\r\\n</td>\n",
       "      <td>2016-11-03T03:55:58.497287</td>\n",
       "      <td>192.150.16.163</td>\n",
       "      <td>United States</td>\n",
       "      <td>NaN</td>\n",
       "      <td>NaN</td>\n",
       "      <td>Level 3 Communications</td>\n",
       "      <td>NaN</td>\n",
       "      <td>HTTP/1.1 200</td>\n",
       "      <td>200</td>\n",
       "      <td>NaN</td>\n",
       "      <td>1</td>\n",
       "      <td>0</td>\n",
       "      <td>0</td>\n",
       "    </tr>\n",
       "  </tbody>\n",
       "</table>\n",
       "</div>"
      ],
      "text/plain": [
       "               IP    Port  \\\n",
       "0  192.150.16.10   4500.0   \n",
       "1  192.150.16.163  443.0    \n",
       "\n",
       "                                                                                                                                                                                                                                                                                                                                                                                                                                                                           Banner  \\\n",
       "0  VPN (IKE NAT-T)\\n\\nInitiator SPI: e5f858a0876af576\\nResponder SPI: 977987b5d8e61320\\nNext Payload: Security Association (SA)\\nVersion: 1.0\\nExchange Type: Identity Protection\\nFlags:\\n    Encryption:     False\\n    Commit:         False\\n    Authentication: False\\nMessage ID: 00000000\\nLength: 80                                                                                                                                                                        \n",
       "1  HTTP/1.1 200 OK\\r\\nDate: Thu, 03 Nov 2016 03:55:51 GMT\\r\\nServer: Apache\\r\\nX-Adobe-Content: AEM,floodgate-pink\\r\\nX-Frame-Options: SAMEORIGIN\\r\\nVary: X-Adobe-SSL\\r\\nEdge-control: !no-store,max-age=15m\\r\\nAccept-Ranges: bytes\\r\\nCache-Control: max-age=900\\r\\nExpires: Thu, 03 Nov 2016 04:10:51 GMT\\r\\nX-dynaTrace: PT=13782565;PA=-1526674535;SP=prod;PS=170337423\\r\\nX-Adobe-Loc: da1\\r\\nTransfer-Encoding: chunked\\r\\nContent-Type: text/html; charset=UTF-8\\r\\n\\r\\n   \n",
       "\n",
       "                    Timestamp       Hostnames        Country City  \\\n",
       "0  2016-11-03T04:05:11.336316  NaN             United States  NaN   \n",
       "1  2016-11-03T03:55:58.497287  192.150.16.163  United States  NaN   \n",
       "\n",
       "  Operating System            Organization Targetted      Response Webcode  \\\n",
       "0  NaN              Level 3 Communications  NaN       NaN           NaN      \n",
       "1  NaN              Level 3 Communications  NaN       HTTP/1.1 200  200      \n",
       "\n",
       "  Domain live attacked prod  \n",
       "0  NaN    0    0        0    \n",
       "1  NaN    1    0        0    "
      ]
     },
     "execution_count": 41,
     "metadata": {},
     "output_type": "execute_result"
    }
   ],
   "source": [
    "shodan_complete.head(2)"
   ]
  },
  {
   "cell_type": "code",
   "execution_count": 9,
   "metadata": {
    "collapsed": false
   },
   "outputs": [
    {
     "data": {
      "text/plain": [
       "adobe                     118\n",
       "adobeitc                  49 \n",
       "stage.adobe               16 \n",
       "macromedia                3  \n",
       "wip.adobe                 2  \n",
       "adobedemo                 2  \n",
       "rs.adobe                  2  \n",
       "adobeprerelease           2  \n",
       "day                       2  \n",
       "licenses.adobe            2  \n",
       "share.adobe               2  \n",
       "dtm.adobeitc              1  \n",
       "adobe-references          1  \n",
       "cgi.adobe                 1  \n",
       "digitalexperiencescore    1  \n",
       "Name: Domain, dtype: int64"
      ]
     },
     "execution_count": 9,
     "metadata": {},
     "output_type": "execute_result"
    }
   ],
   "source": [
    "shodan_complete.Domain.value_counts()"
   ]
  },
  {
   "cell_type": "code",
   "execution_count": 10,
   "metadata": {
    "collapsed": false
   },
   "outputs": [
    {
     "data": {
      "text/plain": [
       "200    126\n",
       "302    82 \n",
       "404    32 \n",
       "403    30 \n",
       "301    12 \n",
       "307    3  \n",
       "503    3  \n",
       "400    2  \n",
       "401    2  \n",
       "204    1  \n",
       "500    1  \n",
       "Name: Webcode, dtype: int64"
      ]
     },
     "execution_count": 10,
     "metadata": {},
     "output_type": "execute_result"
    }
   ],
   "source": [
    "shodan_complete.Webcode.value_counts()"
   ]
  },
  {
   "cell_type": "code",
   "execution_count": 11,
   "metadata": {
    "collapsed": true
   },
   "outputs": [],
   "source": [
    "# Create a new column called shodan_complete.live where the value is yes\n",
    "# if shodan_complete.Response is response 200 and no if not\n",
    "shodan_complete['live'] = np.where(shodan_complete['Webcode']=='200', '1', '0')"
   ]
  },
  {
   "cell_type": "code",
   "execution_count": 12,
   "metadata": {
    "collapsed": false
   },
   "outputs": [
    {
     "data": {
      "text/html": [
       "<div>\n",
       "<table border=\"1\" class=\"dataframe\">\n",
       "  <thead>\n",
       "    <tr style=\"text-align: right;\">\n",
       "      <th></th>\n",
       "      <th>IP</th>\n",
       "      <th>Port</th>\n",
       "      <th>Banner</th>\n",
       "      <th>Timestamp</th>\n",
       "      <th>Hostnames</th>\n",
       "      <th>Country</th>\n",
       "      <th>City</th>\n",
       "      <th>Operating System</th>\n",
       "      <th>Organization</th>\n",
       "      <th>Targetted</th>\n",
       "      <th>Response</th>\n",
       "      <th>Webcode</th>\n",
       "      <th>Domain</th>\n",
       "      <th>live</th>\n",
       "      <th>attacked</th>\n",
       "    </tr>\n",
       "  </thead>\n",
       "  <tbody>\n",
       "    <tr>\n",
       "      <th>0</th>\n",
       "      <td>192.150.16.10</td>\n",
       "      <td>4500.0</td>\n",
       "      <td>VPN (IKE NAT-T)\\n\\nInitiator SPI: e5f858a0876af576\\nResponder SPI: 977987b5d8e61320\\nNext Payload: Security Association (SA)\\nVersion: 1.0\\nExchange Type: Identity Protection\\nFlags:\\n    Encryption:     False\\n    Commit:         False\\n    Authentication: False\\nMessage ID: 00000000\\nLength: 80</td>\n",
       "      <td>2016-11-03T04:05:11.336316</td>\n",
       "      <td>NaN</td>\n",
       "      <td>United States</td>\n",
       "      <td>NaN</td>\n",
       "      <td>NaN</td>\n",
       "      <td>Level 3 Communications</td>\n",
       "      <td>NaN</td>\n",
       "      <td>NaN</td>\n",
       "      <td>NaN</td>\n",
       "      <td>NaN</td>\n",
       "      <td>0</td>\n",
       "      <td>0</td>\n",
       "    </tr>\n",
       "    <tr>\n",
       "      <th>1</th>\n",
       "      <td>192.150.16.163</td>\n",
       "      <td>443.0</td>\n",
       "      <td>HTTP/1.1 200 OK\\r\\nDate: Thu, 03 Nov 2016 03:55:51 GMT\\r\\nServer: Apache\\r\\nX-Adobe-Content: AEM,floodgate-pink\\r\\nX-Frame-Options: SAMEORIGIN\\r\\nVary: X-Adobe-SSL\\r\\nEdge-control: !no-store,max-age=15m\\r\\nAccept-Ranges: bytes\\r\\nCache-Control: max-age=900\\r\\nExpires: Thu, 03 Nov 2016 04:10:51 GMT\\r\\nX-dynaTrace: PT=13782565;PA=-1526674535;SP=prod;PS=170337423\\r\\nX-Adobe-Loc: da1\\r\\nTransfer-Encoding: chunked\\r\\nContent-Type: text/html; charset=UTF-8\\r\\n\\r\\n</td>\n",
       "      <td>2016-11-03T03:55:58.497287</td>\n",
       "      <td>192.150.16.163</td>\n",
       "      <td>United States</td>\n",
       "      <td>NaN</td>\n",
       "      <td>NaN</td>\n",
       "      <td>Level 3 Communications</td>\n",
       "      <td>NaN</td>\n",
       "      <td>HTTP/1.1 200</td>\n",
       "      <td>200</td>\n",
       "      <td>NaN</td>\n",
       "      <td>1</td>\n",
       "      <td>0</td>\n",
       "    </tr>\n",
       "  </tbody>\n",
       "</table>\n",
       "</div>"
      ],
      "text/plain": [
       "               IP    Port  \\\n",
       "0  192.150.16.10   4500.0   \n",
       "1  192.150.16.163  443.0    \n",
       "\n",
       "                                                                                                                                                                                                                                                                                                                                                                                                                                                                           Banner  \\\n",
       "0  VPN (IKE NAT-T)\\n\\nInitiator SPI: e5f858a0876af576\\nResponder SPI: 977987b5d8e61320\\nNext Payload: Security Association (SA)\\nVersion: 1.0\\nExchange Type: Identity Protection\\nFlags:\\n    Encryption:     False\\n    Commit:         False\\n    Authentication: False\\nMessage ID: 00000000\\nLength: 80                                                                                                                                                                        \n",
       "1  HTTP/1.1 200 OK\\r\\nDate: Thu, 03 Nov 2016 03:55:51 GMT\\r\\nServer: Apache\\r\\nX-Adobe-Content: AEM,floodgate-pink\\r\\nX-Frame-Options: SAMEORIGIN\\r\\nVary: X-Adobe-SSL\\r\\nEdge-control: !no-store,max-age=15m\\r\\nAccept-Ranges: bytes\\r\\nCache-Control: max-age=900\\r\\nExpires: Thu, 03 Nov 2016 04:10:51 GMT\\r\\nX-dynaTrace: PT=13782565;PA=-1526674535;SP=prod;PS=170337423\\r\\nX-Adobe-Loc: da1\\r\\nTransfer-Encoding: chunked\\r\\nContent-Type: text/html; charset=UTF-8\\r\\n\\r\\n   \n",
       "\n",
       "                    Timestamp       Hostnames        Country City  \\\n",
       "0  2016-11-03T04:05:11.336316  NaN             United States  NaN   \n",
       "1  2016-11-03T03:55:58.497287  192.150.16.163  United States  NaN   \n",
       "\n",
       "  Operating System            Organization Targetted      Response Webcode  \\\n",
       "0  NaN              Level 3 Communications  NaN       NaN           NaN      \n",
       "1  NaN              Level 3 Communications  NaN       HTTP/1.1 200  200      \n",
       "\n",
       "  Domain live attacked  \n",
       "0  NaN    0    0        \n",
       "1  NaN    1    0        "
      ]
     },
     "execution_count": 12,
     "metadata": {},
     "output_type": "execute_result"
    }
   ],
   "source": [
    "# Create a new column called shodan_complete.attacked where the value is yes\n",
    "# if shodan_complete.Targetted is 'Yes' and no if not\n",
    "shodan_complete['attacked'] = np.where(shodan_complete['Targetted']=='Yes', '1', '0')\n",
    "shodan_complete.head(2)"
   ]
  },
  {
   "cell_type": "code",
   "execution_count": 13,
   "metadata": {
    "collapsed": true
   },
   "outputs": [],
   "source": [
    "#sdtest=shodan_complete[['IP','prod','live','attacked']]\n",
    "columns = ['IP', 'prod', 'live', 'attacked']\n",
    "df1 = pd.DataFrame(shodan_complete, columns=columns)"
   ]
  },
  {
   "cell_type": "code",
   "execution_count": 15,
   "metadata": {
    "collapsed": false
   },
   "outputs": [
    {
     "data": {
      "text/plain": [
       "<matplotlib.axes._subplots.AxesSubplot at 0x9c5a358>"
      ]
     },
     "execution_count": 15,
     "metadata": {},
     "output_type": "execute_result"
    },
    {
     "data": {
      "image/png": "[encoded data removed]",
      "text/plain": [
       "<matplotlib.figure.Figure at 0x9c49a58>"
      ]
     },
     "metadata": {},
     "output_type": "display_data"
    }
   ],
   "source": [
    "%matplotlib inline\n",
    "shodan_complete.Webcode.value_counts().plot(kind='pie')"
   ]
  },
  {
   "cell_type": "code",
   "execution_count": 16,
   "metadata": {
    "collapsed": false
   },
   "outputs": [
    {
     "data": {
      "text/plain": [
       "<matplotlib.axes._subplots.AxesSubplot at 0x9cbe400>"
      ]
     },
     "execution_count": 16,
     "metadata": {},
     "output_type": "execute_result"
    },
    {
     "data": {
      "image/png": "[encoded data removed]",
      "text/plain": [
       "<matplotlib.figure.Figure at 0x9cd5eb8>"
      ]
     },
     "metadata": {},
     "output_type": "display_data"
    }
   ],
   "source": [
    "shodan_complete.Webcode.value_counts().plot(kind='bar')"
   ]
  },
  {
   "cell_type": "markdown",
   "metadata": {},
   "source": [
    "## How you chose which features to use in your analysis\n",
    "Looking for features that will help determine the following:\n",
    "* Was the service or asset targeted based on service type\n",
    "* Was the service or asset targeted based on web or service response\n",
    "* Was the service or asset targeted based on domain details \n",
    "\n",
    "If any of these features indicate which hosts/services are to be targeted we can better define a review and mitigation strategy. \n",
    "\n",
    "## Details of your modeling process, including how you selected your models and validated them\n",
    "Model Selected - http://scikit-learn.org/stable/modules/naive_bayes.html\n",
    "\n",
    "Selection Process\n",
    "* Review of data to be used - categorical and text predominately\n",
    "* Data set size "
   ]
  },
  {
   "cell_type": "code",
   "execution_count": 35,
   "metadata": {
    "collapsed": true
   },
   "outputs": [],
   "source": [
    "shodan_complete['prod'] = np.where(shodan_complete['Domain']=='adobe', '1', '0')"
   ]
  },
  {
   "cell_type": "code",
   "execution_count": 36,
   "metadata": {
    "collapsed": true
   },
   "outputs": [],
   "source": [
    "#sdtest=shodan_complete[['IP','prod','live','attacked']]\n",
    "columns = ['IP', 'prod', 'live', 'attacked']\n",
    "df1 = pd.DataFrame(shodan_complete, columns=columns)"
   ]
  },
  {
   "cell_type": "code",
   "execution_count": 37,
   "metadata": {
    "collapsed": false
   },
   "outputs": [
    {
     "data": {
      "text/plain": [
       "LinearRegression(copy_X=True, fit_intercept=True, n_jobs=1, normalize=False)"
      ]
     },
     "execution_count": 37,
     "metadata": {},
     "output_type": "execute_result"
    }
   ],
   "source": [
    "# We have created our X (feature matrix) and Y (response vector so now lets:\n",
    "# import our chosen estimator, instantiate it into a variable, fit the model with the X and y\n",
    "from sklearn.linear_model import LinearRegression\n",
    "linreg = LinearRegression()\n",
    "linreg.fit(X, y)"
   ]
  },
  {
   "cell_type": "code",
   "execution_count": 38,
   "metadata": {
    "collapsed": false
   },
   "outputs": [
    {
     "name": "stdout",
     "output_type": "stream",
     "text": [
      "0.881791036122\n",
      "[-0.56425755 -0.32068931]\n"
     ]
    }
   ],
   "source": [
    "# create X and y\n",
    "feature_cols = ['prod', 'live']\n",
    "X = df1[feature_cols]\n",
    "y = df1.attacked\n",
    "\n",
    "# instantiate and fit\n",
    "linreg = LinearRegression()\n",
    "linreg.fit(X, y)\n",
    "\n",
    "# print the coefficients\n",
    "print linreg.intercept_\n",
    "print linreg.coef_"
   ]
  },
  {
   "cell_type": "code",
   "execution_count": 39,
   "metadata": {
    "collapsed": false
   },
   "outputs": [
    {
     "data": {
      "text/html": [
       "<div>\n",
       "<table border=\"1\" class=\"dataframe\">\n",
       "  <thead>\n",
       "    <tr style=\"text-align: right;\">\n",
       "      <th></th>\n",
       "      <th>IP</th>\n",
       "      <th>prod</th>\n",
       "      <th>live</th>\n",
       "      <th>attacked</th>\n",
       "    </tr>\n",
       "  </thead>\n",
       "  <tbody>\n",
       "    <tr>\n",
       "      <th>0</th>\n",
       "      <td>192.150.16.10</td>\n",
       "      <td>0</td>\n",
       "      <td>0</td>\n",
       "      <td>0</td>\n",
       "    </tr>\n",
       "    <tr>\n",
       "      <th>1</th>\n",
       "      <td>192.150.16.163</td>\n",
       "      <td>0</td>\n",
       "      <td>1</td>\n",
       "      <td>0</td>\n",
       "    </tr>\n",
       "    <tr>\n",
       "      <th>2</th>\n",
       "      <td>192.150.16.202</td>\n",
       "      <td>0</td>\n",
       "      <td>1</td>\n",
       "      <td>0</td>\n",
       "    </tr>\n",
       "    <tr>\n",
       "      <th>3</th>\n",
       "      <td>192.150.9.29</td>\n",
       "      <td>0</td>\n",
       "      <td>1</td>\n",
       "      <td>0</td>\n",
       "    </tr>\n",
       "    <tr>\n",
       "      <th>4</th>\n",
       "      <td>192.150.9.29</td>\n",
       "      <td>0</td>\n",
       "      <td>0</td>\n",
       "      <td>0</td>\n",
       "    </tr>\n",
       "  </tbody>\n",
       "</table>\n",
       "</div>"
      ],
      "text/plain": [
       "               IP prod live attacked\n",
       "0  192.150.16.10   0    0    0      \n",
       "1  192.150.16.163  0    1    0      \n",
       "2  192.150.16.202  0    1    0      \n",
       "3  192.150.9.29    0    1    0      \n",
       "4  192.150.9.29    0    0    0      "
      ]
     },
     "execution_count": 39,
     "metadata": {},
     "output_type": "execute_result"
    }
   ],
   "source": [
    "df1.head()"
   ]
  },
  {
   "cell_type": "markdown",
   "metadata": {},
   "source": [
    "## Your challenges and successes\n",
    "Challenges\n",
    "* Data manipulation was required to get the features need for the modeling, more of an expected challenge\n",
    "* Unexpected volume of traffic by GEO, when initially conceived didn't believe there would be so much interesting traffic orginating from the China and Russia GEO's\n",
    "* Assumption of consistent FW policy became a real issue\n",
    "\n",
    "Successes\n",
    "* Ability to collect and summarize data by ASN - including services that are live, service responses, possible issues or vulnerabilities\n",
    "* Actual identification of security issues based on initial analysis (identified vulnerable system configs)"
   ]
  },
  {
   "cell_type": "markdown",
   "metadata": {},
   "source": [
    "## Conclusions and key learnings\n",
    "* Data manipulation took much longer than expected\n",
    "* Assumptions about FW data/policy proved problematic\n",
    "* Ability to predict attacks/exploitation by defined attributes failed for the following:\n",
    "  * Traffic is allowed for some VLAN's regardless of service status\n",
    "  * All IP's are targetted at some level\n",
    "  * Further review to also include traffic volumes might be requried\n",
    "  \n",
    "* Future attributes being reviewed\n",
    "  * Flow data - amount of data in bytes\n",
    "  * Session count for activity\n",
    "  * Focusing on just web applications"
   ]
  },
  {
   "cell_type": "code",
   "execution_count": null,
   "metadata": {
    "collapsed": true
   },
   "outputs": [],
   "source": []
  }
 ],
 "metadata": {
  "kernelspec": {
   "display_name": "Python 2",
   "language": "python",
   "name": "python2"
  },
  "language_info": {
   "codemirror_mode": {
    "name": "ipython",
    "version": 2
   },
   "file_extension": ".py",
   "mimetype": "text/x-python",
   "name": "python",
   "nbconvert_exporter": "python",
   "pygments_lexer": "ipython2",
   "version": "2.7.11"
  }
 },
 "nbformat": 4,
 "nbformat_minor": 0
}
